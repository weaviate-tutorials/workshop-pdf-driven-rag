{
 "cells": [
  {
   "cell_type": "code",
   "execution_count": null,
   "id": "3e6a45f0",
   "metadata": {},
   "outputs": [],
   "source": [
    "from dotenv import load_dotenv\n",
    "\n",
    "load_dotenv()"
   ]
  },
  {
   "cell_type": "markdown",
   "id": "0fd7f076",
   "metadata": {},
   "source": [
    "## Working with PDFs as images"
   ]
  },
  {
   "cell_type": "markdown",
   "id": "607b9a25",
   "metadata": {},
   "source": [
    "### Approach 2: Use the entire page!\n",
    "\n",
    "How do we mentally split PDFs? We usually think of them as a set of pages. We can do the same with PDFs, by embedding the entire page!\n",
    "\n",
    "<img src=\"data/imgs/manual_bosch_WGG254Z0GR_36_of_56.jpg\" width=\"200px\" />\n",
    "<img src=\"data/imgs/manual_bosch_WGG254Z0GR_37_of_56.jpg\" width=\"200px\" />\n",
    "<img src=\"data/imgs/manual_bosch_WGG254Z0GR_38_of_56.jpg\" width=\"200px\" />"
   ]
  },
  {
   "cell_type": "code",
   "execution_count": null,
   "id": "b47094cc",
   "metadata": {},
   "outputs": [],
   "source": [
    "import weaviate\n",
    "import os\n",
    "\n",
    "client = weaviate.connect_to_embedded(\n",
    "    version=\"1.32.0\",\n",
    "    headers={\n",
    "        \"X-Cohere-Api-Key\": os.getenv(\"COHERE_API_KEY\"),\n",
    "        \"X-Anthropic-Api-Key\": os.getenv(\"ANTHROPIC_API_KEY\"),\n",
    "    },\n",
    "    environment_variables={\n",
    "        \"LOG_LEVEL\": \"error\",                   # Reduce amount of logs\n",
    "        \"ENABLE_API_BASED_MODULES\": \"true\",     # Enable API-based modules like multi2vec-cohere\n",
    "    }\n",
    ")"
   ]
  },
  {
   "cell_type": "code",
   "execution_count": 2,
   "id": "7fdf0c5d",
   "metadata": {},
   "outputs": [],
   "source": [
    "client.collections.delete(\"Pages\")"
   ]
  },
  {
   "cell_type": "code",
   "execution_count": null,
   "id": "f4e16e5f",
   "metadata": {},
   "outputs": [
    {
     "data": {
      "text/plain": [
       "<weaviate.collections.collection.sync.Collection at 0x10419b7c0>"
      ]
     },
     "execution_count": 3,
     "metadata": {},
     "output_type": "execute_result"
    }
   ],
   "source": [
    "from weaviate.classes.config import Property, DataType, Configure, Tokenization\n",
    "\n",
    "client.collections.create(\n",
    "    name=\"Pages\",\n",
    "    properties=[\n",
    "        Property(\n",
    "            name=\"document_title\",\n",
    "            data_type=DataType.TEXT,\n",
    "        ),\n",
    "        Property(\n",
    "            name=\"page_image\",\n",
    "            data_type=DataType.BLOB,\n",
    "        ),\n",
    "        Property(\n",
    "            name=\"filename\",\n",
    "            data_type=DataType.TEXT,\n",
    "            tokenization=Tokenization.FIELD\n",
    "        ),\n",
    "    ],\n",
    "    vector_config=[\n",
    "        # Add `Configure.Vectors.multi2vec_cohere` vector to the collection with:\n",
    "        # name: \"default\", source properties: [\"page_image\"], and model: \"embed-v4.0\"\n",
    "        # BEGIN_SOLUTION\n",
    "        Configure.Vectors.multi2vec_cohere(\n",
    "            name=\"default\",\n",
    "            image_fields=[\"page_image\"],\n",
    "            model=\"embed-v4.0\"\n",
    "        )\n",
    "        # END_SOLUTION\n",
    "    ]\n",
    ")"
   ]
  },
  {
   "cell_type": "code",
   "execution_count": 4,
   "id": "f6b2e440",
   "metadata": {},
   "outputs": [],
   "source": [
    "pages = client.collections.get(\"Pages\")"
   ]
  },
  {
   "cell_type": "markdown",
   "id": "7eee6dd2",
   "metadata": {},
   "source": [
    "Load pre-computed vectors & metadata"
   ]
  },
  {
   "cell_type": "code",
   "execution_count": 5,
   "id": "c8566e1e",
   "metadata": {},
   "outputs": [],
   "source": [
    "import numpy as np\n",
    "import json\n",
    "\n",
    "with open(\"data/embeddings/embeddings_metadata.json\", \"r\") as f:\n",
    "    metadata = json.load(f)\n",
    "\n",
    "embeddings = np.load(\"data/embeddings/image_embeddings.npy\")"
   ]
  },
  {
   "cell_type": "markdown",
   "id": "2cf5ad58",
   "metadata": {},
   "source": [
    "Import data"
   ]
  },
  {
   "cell_type": "code",
   "execution_count": null,
   "id": "a58a9a67",
   "metadata": {},
   "outputs": [
    {
     "name": "stderr",
     "output_type": "stream",
     "text": [
      "56it [00:00, 775.87it/s]\n"
     ]
    }
   ],
   "source": [
    "from tqdm import tqdm\n",
    "from pathlib import Path\n",
    "import base64\n",
    "\n",
    "with pages.batch.fixed_size(batch_size=100) as batch:\n",
    "    for i, embedding in tqdm(enumerate(embeddings)):\n",
    "        filepath = Path(metadata[\"image_paths\"][i])\n",
    "        image = filepath.read_bytes()\n",
    "        base64_image = base64.b64encode(image).decode('utf-8')\n",
    "        obj = {\n",
    "            \"document_title\": \"Bosch WGG254Z0GR Manual\",\n",
    "            \"page_image\": base64_image,\n",
    "            \"filename\": filepath.name\n",
    "        }\n",
    "\n",
    "        # Add object to batch for import with (batch.add_object())\n",
    "        # This time, manually provide the vector with `{\"default\": embedding}`\n",
    "        # BEGIN_SOLUTION\n",
    "        batch.add_object(\n",
    "            properties=obj,\n",
    "            vector={\"default\": embedding}\n",
    "        )\n",
    "        # END_SOLUTION"
   ]
  },
  {
   "cell_type": "code",
   "execution_count": null,
   "id": "d3ba2c7b",
   "metadata": {},
   "outputs": [],
   "source": [
    "from weaviate.classes.generate import GenerativeConfig, GenerativeParameters\n",
    "\n",
    "prompt = GenerativeParameters.grouped_task(\n",
    "    prompt=\"How do I clean the drain pump? Please describe the steps in detail based on the provided images.\",\n",
    "    image_properties=[\"page_image\"],  # Property containing images in Weaviate\n",
    ")\n",
    "\n",
    "\n",
    "response = pages.generate.near_text(\n",
    "    # Try a RAG query with:\n",
    "    # query (what to search for): \"How to clean the drain pump\" and\n",
    "    # limit (how many objects to fetch): 3\n",
    "    # grouped_task (prompt): prompt defined above\n",
    "    # BEGIN_SOLUTION\n",
    "    query=\"How to clean the drain pump\",\n",
    "    limit=3,\n",
    "    grouped_task=prompt,\n",
    "    # END_SOLUTION\n",
    "    # Runtime definition of what generative AI model provider to use\n",
    "    generative_provider=GenerativeConfig.anthropic()\n",
    ")"
   ]
  },
  {
   "cell_type": "code",
   "execution_count": 9,
   "id": "3a683418",
   "metadata": {},
   "outputs": [
    {
     "name": "stdout",
     "output_type": "stream",
     "text": [
      "Based on the images provided, here are the detailed steps to clean the drain pump:\n",
      "\n",
      "1. Ensure the drain pump is empty. Refer to page 36 for instructions on emptying the drain pump.\n",
      "\n",
      "2. Unscrew the pump cap carefully, as water may remain in the drain pump.\n",
      "\n",
      "3. Remove the filter insert from the pump housing. It may be stuck due to dirt particles, so loosen and remove it gently.\n",
      "\n",
      "4. Clean the interior of the pump, the threads on the pump cap, and the pump housing.\n",
      "\n",
      "5. The pump cap consists of two parts that can be separated for thorough cleaning.\n",
      "\n",
      "6. Ensure the impeller in the drain pump can rotate freely.\n",
      "\n",
      "7. Insert the pump cap, making sure all parts are correctly assembled.\n",
      "\n",
      "8. Screw the pump cap back in as far as it will go. The handle on the pump cap must be in a vertical position.\n",
      "\n",
      "9. Insert and close the service flap.\n",
      "\n",
      "For regular maintenance:\n",
      "- Clean the drain pump at least once a year.\n",
      "- Also clean if you notice any faults like blockages or rattling noises.\n",
      "- Always disconnect the appliance's power supply before cleaning the drain pump.\n",
      "\n",
      "Following these steps should ensure your drain pump is properly cleaned and maintained. Remember to exercise caution when dealing with electrical appliances and water.\n"
     ]
    }
   ],
   "source": [
    "print(response.generative.text)"
   ]
  },
  {
   "cell_type": "code",
   "execution_count": 10,
   "id": "3225057c",
   "metadata": {},
   "outputs": [
    {
     "name": "stdout",
     "output_type": "stream",
     "text": [
      "Filename: manual_bosch_WGG254Z0GR_38_of_56.jpg\n",
      "Filename: manual_bosch_WGG254Z0GR_36_of_56.jpg\n",
      "Filename: manual_bosch_WGG254Z0GR_39_of_56.jpg\n"
     ]
    }
   ],
   "source": [
    "for o in response.objects:\n",
    "    print(f\"Filename: {o.properties['filename']}\")"
   ]
  },
  {
   "cell_type": "code",
   "execution_count": 11,
   "id": "e2e89bf6",
   "metadata": {},
   "outputs": [
    {
     "name": "stderr",
     "output_type": "stream",
     "text": [
      "{\"build_git_commit\":\"7cebee0421\",\"build_go_version\":\"go1.24.5\",\"build_image_tag\":\"HEAD\",\"build_wv_version\":\"1.32.0\",\"error\":\"context canceled\",\"level\":\"error\",\"msg\":\"replication engine failed to start after FSM caught up\",\"time\":\"2025-07-16T17:02:16+01:00\"}\n",
      "{\"build_git_commit\":\"7cebee0421\",\"build_go_version\":\"go1.24.5\",\"build_image_tag\":\"HEAD\",\"build_wv_version\":\"1.32.0\",\"error\":\"cannot find peer\",\"level\":\"error\",\"msg\":\"transferring leadership\",\"time\":\"2025-07-16T17:02:16+01:00\"}\n"
     ]
    }
   ],
   "source": [
    "client.close()"
   ]
  },
  {
   "cell_type": "code",
   "execution_count": null,
   "id": "6bbdd760",
   "metadata": {},
   "outputs": [],
   "source": []
  }
 ],
 "metadata": {
  "kernelspec": {
   "display_name": "workshop-pdf-rag",
   "language": "python",
   "name": "python3"
  },
  "language_info": {
   "codemirror_mode": {
    "name": "ipython",
    "version": 3
   },
   "file_extension": ".py",
   "mimetype": "text/x-python",
   "name": "python",
   "nbconvert_exporter": "python",
   "pygments_lexer": "ipython3",
   "version": "3.10.16"
  }
 },
 "nbformat": 4,
 "nbformat_minor": 5
}
