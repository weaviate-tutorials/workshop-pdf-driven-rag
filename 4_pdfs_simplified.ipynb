{
 "cells": [
  {
   "cell_type": "code",
   "execution_count": null,
   "id": "3e6a45f0",
   "metadata": {},
   "outputs": [],
   "source": [
    "from dotenv import load_dotenv\n",
    "\n",
    "load_dotenv()"
   ]
  },
  {
   "cell_type": "markdown",
   "id": "0fd7f076",
   "metadata": {},
   "source": [
    "## Working with PDFs as images"
   ]
  },
  {
   "cell_type": "markdown",
   "id": "607b9a25",
   "metadata": {},
   "source": [
    "### Approach 2: Use the entire page!\n",
    "\n",
    "How do we mentally split PDFs? We usually think of them as a set of pages. We can do the same with PDFs, by embedding the entire page!\n",
    "\n",
    "<img src=\"data/imgs/hai_ai_index_report_2025_chapter_2_34_of_80.jpg\" width=\"200px\" />\n",
    "<img src=\"data/imgs/hai_ai_index_report_2025_chapter_2_58_of_80.jpg\" width=\"200px\" />\n",
    "<img src=\"data/imgs/hai_ai_index_report_2025_chapter_2_69_of_80.jpg\" width=\"200px\" />"
   ]
  },
  {
   "cell_type": "code",
   "execution_count": null,
   "id": "b47094cc",
   "metadata": {},
   "outputs": [],
   "source": [
    "import utils\n",
    "\n",
    "# Helper function to connect to Weaviate\n",
    "client = utils.connect_to_weaviate()"
   ]
  },
  {
   "cell_type": "code",
   "execution_count": null,
   "id": "7fdf0c5d",
   "metadata": {},
   "outputs": [],
   "source": [
    "client.collections.delete(\"Pages\")"
   ]
  },
  {
   "cell_type": "code",
   "execution_count": null,
   "id": "f4e16e5f",
   "metadata": {},
   "outputs": [],
   "source": [
    "from weaviate.classes.config import Property, DataType, Configure, Tokenization\n",
    "\n",
    "client.collections.create(\n",
    "    name=\"Pages\",\n",
    "    properties=[\n",
    "        Property(\n",
    "            name=\"document_title\",\n",
    "            data_type=DataType.TEXT,\n",
    "        ),\n",
    "        Property(\n",
    "            name=\"page_image\",\n",
    "            data_type=DataType.BLOB,\n",
    "        ),\n",
    "        Property(\n",
    "            name=\"filename\",\n",
    "            data_type=DataType.TEXT,\n",
    "            tokenization=Tokenization.FIELD\n",
    "        ),\n",
    "    ],\n",
    "    vector_config=[\n",
    "        # Add `Configure.Vectors.multi2vec_cohere` vector to the collection with:\n",
    "        # name: \"default\", source properties: [\"page_image\"], and model: \"embed-v4.0\"\n",
    "        # ADD YOUR CODE HERE\n",
    "    ]\n",
    ")"
   ]
  },
  {
   "cell_type": "code",
   "execution_count": null,
   "id": "f6b2e440",
   "metadata": {},
   "outputs": [],
   "source": [
    "pages = client.collections.get(\"Pages\")"
   ]
  },
  {
   "cell_type": "markdown",
   "id": "7eee6dd2",
   "metadata": {},
   "source": [
    "Load pre-computed vectors & metadata"
   ]
  },
  {
   "cell_type": "code",
   "execution_count": null,
   "id": "c8566e1e",
   "metadata": {},
   "outputs": [],
   "source": [
    "import numpy as np\n",
    "import json\n",
    "\n",
    "with open(\"data/embeddings/hai_embeddings_metadata.json\", \"r\") as f:\n",
    "    metadata = json.load(f)\n",
    "\n",
    "embeddings = np.load(\"data/embeddings/hai_image_embeddings.npy\")"
   ]
  },
  {
   "cell_type": "markdown",
   "id": "2cf5ad58",
   "metadata": {},
   "source": [
    "Import data"
   ]
  },
  {
   "cell_type": "code",
   "execution_count": null,
   "id": "a58a9a67",
   "metadata": {},
   "outputs": [],
   "source": [
    "from tqdm import tqdm\n",
    "from pathlib import Path\n",
    "import base64\n",
    "\n",
    "with pages.batch.fixed_size(batch_size=100) as batch:\n",
    "    for i, embedding in tqdm(enumerate(embeddings)):\n",
    "        filepath = Path(metadata[\"image_paths\"][i])\n",
    "        image = filepath.read_bytes()\n",
    "        base64_image = base64.b64encode(image).decode('utf-8')\n",
    "        obj = {\n",
    "            \"document_title\": \"Stanford HAI Report 2025\",\n",
    "            \"page_image\": base64_image,\n",
    "            \"filename\": filepath.name\n",
    "        }\n",
    "\n",
    "        # Add object to batch for import with (batch.add_object())\n",
    "        # This time, manually provide the vector with `{\"default\": embedding}`\n",
    "        # ADD YOUR CODE HERE"
   ]
  },
  {
   "cell_type": "code",
   "execution_count": null,
   "id": "d3ba2c7b",
   "metadata": {},
   "outputs": [],
   "source": [
    "from weaviate.classes.generate import GenerativeConfig, GenerativeParameters\n",
    "\n",
    "prompt = GenerativeParameters.grouped_task(\n",
    "    prompt=\"What advances has there been in autonomous driving in the last few years?\",\n",
    "    image_properties=[\"page_image\"],  # Property containing images in Weaviate\n",
    ")\n",
    "\n",
    "\n",
    "response = pages.generate.near_text(\n",
    "    # Try a RAG query with:\n",
    "    # query (what to search for): \"How to clean the drain pump\" and\n",
    "    # limit (how many objects to fetch): 3\n",
    "    # grouped_task (prompt): prompt defined above\n",
    "    # ADD YOUR CODE HERE\n",
    "    # Runtime definition of what generative AI model provider to use\n",
    "    generative_provider=GenerativeConfig.anthropic(\n",
    "        model=\"claude-3-5-haiku-latest\"\n",
    "    )\n",
    ")"
   ]
  },
  {
   "cell_type": "code",
   "execution_count": null,
   "id": "3a683418",
   "metadata": {},
   "outputs": [],
   "source": [
    "print(response.generative.text)"
   ]
  },
  {
   "cell_type": "code",
   "execution_count": null,
   "id": "3225057c",
   "metadata": {},
   "outputs": [],
   "source": [
    "for o in response.objects:\n",
    "    print(f\"Filename: {o.properties['filename']}\")"
   ]
  },
  {
   "cell_type": "code",
   "execution_count": null,
   "id": "e2e89bf6",
   "metadata": {},
   "outputs": [],
   "source": [
    "client.close()"
   ]
  },
  {
   "cell_type": "code",
   "execution_count": null,
   "id": "6bbdd760",
   "metadata": {},
   "outputs": [],
   "source": []
  },
  {
   "cell_type": "markdown",
   "id": "2jc99kgxalx",
   "metadata": {},
   "source": [
    "<div style=\"max-width: 90%; background: linear-gradient(135deg, #667eea 0%, #764ba2 100%); padding: 20px; border-radius: 10px; color: white; text-align: center; box-shadow: 0 5px 15px rgba(0,0,0,0.2); margin: 30px 0 15px 0; box-sizing: border-box;\">\n",
    "    <h1 style=\"font-size: 2em; margin: 0; text-shadow: 1px 1px 3px rgba(0,0,0,0.3);\">🎉 Congratulations!</h1>\n",
    "    <p style=\"font-size: 1.1em; margin: 10px 0;\">You've successfully built a PDF-driven RAG system with Weaviate</p>\n",
    "    <hr style=\"border: none; height: 1px; background: rgba(255,255,255,0.3); margin: 15px 0;\"/>\n",
    "    <p style=\"margin: 10px 0; font-size: 1em;\">\n",
    "        🚀 <strong>Ready to take your RAG skills to the next level?</strong>\n",
    "    </p>    \n",
    "</div>\n",
    "\n",
    "<div style=\"max-width: 90%; background: linear-gradient(90deg, #11998e 0%, #38ef7d 100%); padding: 20px; border-radius: 10px; text-align: center; margin: 15px 0; box-sizing: border-box;\">\n",
    "    <div style=\"max-width: 95%; background: rgba(255,255,255,0.2); padding: 15px; border-radius: 6px;\">\n",
    "        <h3 style=\"margin: 0 0 10px 0; color: #2c3e50; font-size: 1.1em;\">📚 Continue Learning</h3>\n",
    "        <p style=\"color: #2c3e50; font-size: 0.9em; margin-bottom: 10px;\">\n",
    "            Expand your knowledge with free courses and comprehensive documentation<br/><br/>\n",
    "            <a href=\"https://weaviate.io/developers/academy\" style=\"color: #2c3e50; text-decoration: underline; font-weight: bold;\">🎓 Weaviate Academy</a> | \n",
    "            <a href=\"https://weaviate.io/developers/weaviate\" style=\"color: #2c3e50; text-decoration: underline; font-weight: bold;\">📖 Documentation</a> | \n",
    "            <a href=\"https://weaviate.io/community/events\" style=\"color: #2c3e50; text-decoration: underline; font-weight: bold;\">🎙️ Workshops</a>\n",
    "        </p>\n",
    "        <br/>\n",
    "        <div style=\"text-align: left; display: inline-block;\">\n",
    "            <p style=\"color: #2c3e50; font-weight: bold; margin: 5px 0; font-size: 0.9em;\">\n",
    "            🎙️ <strong>Upcoming workshops:</strong><br/><br/>\n",
    "            • <a href=\"https://luma.com/ws-2025-10-02?utm_source=weaviate_eventspage\" style=\"color: #2c3e50; text-decoration: underline; font-weight: bold;\">Oct 2: Intro to building AI-native applications with Weaviate</a><br>\n",
    "            • <a href=\"https://luma.com/ws-2025-10-07?utm_source=weaviate_events\" style=\"color: #2c3e50; text-decoration: underline; font-weight: bold;\">Oct 7: Building Intelligent Chatbots with Pydantic AI and Weaviate</a><br>\n",
    "            </p>\n",
    "        </div>\n",
    "    </div>\n",
    "</div>\n",
    "\n",
    "<div style=\"max-width: 90%; background: linear-gradient(90deg, #ffeaa7 0%, #fab1a0 100%); padding: 20px; border-radius: 10px; text-align: center; margin: 15px 0; box-sizing: border-box;\">\n",
    "    <div style=\"max-width: 95%; background: rgba(255,255,255,0.2); padding: 15px; border-radius: 6px;\">\n",
    "        <h3 style=\"margin: 0 0 10px 0; color: #2c3e50; font-size: 1.1em;\">🌟 Join the Community</h3>\n",
    "        <p style=\"color: #2c3e50; font-size: 0.9em; margin-bottom: 10px;\">\n",
    "            Connect with other developers and get help<br/><br/>\n",
    "            <a href=\"https://weaviate.io/slack\" style=\"color: #2c3e50; text-decoration: underline; font-weight: bold;\">💬 Slack</a> | \n",
    "            <a href=\"https://forum.weaviate.io/\" style=\"color: #2c3e50; text-decoration: underline; font-weight: bold;\">💻 Forum</a> | \n",
    "            <a href=\"https://newsletter.weaviate.io\" style=\"color: #2c3e50; text-decoration: underline; font-weight: bold;\">📧 Newsletter</a>\n",
    "        </p>\n",
    "        <p style=\"color: #2c3e50; font-size: 0.9em; margin-bottom: 10px;\">\n",
    "        Meet & share • Ask questions • AI news<br>\n",
    "        </p>\n",
    "    </div>\n",
    "</div>\n",
    "\n",
    "<div style=\"max-width: 90%; background: linear-gradient(135deg, #667eea 0%, #764ba2 100%); padding: 15px; border-radius: 10px; color: white; text-align: center; box-shadow: 0 5px 15px rgba(0,0,0,0.2); margin: 15px 0; box-sizing: border-box;\">\n",
    "    <p style=\"margin: 0; font-size: 1em; opacity: 0.9;\">\n",
    "        Thank you for building with Weaviate! 🙏\n",
    "    </p>\n",
    "    <p style=\"margin: 5px 0 0 0; font-size: 0.9em; opacity: 0.8;\">\n",
    "        <em>Happy vector searching!</em> ✨\n",
    "    </p>\n",
    "</div>"
   ]
  },
  {
   "cell_type": "markdown",
   "id": "8c42471b",
   "metadata": {},
   "source": []
  },
  {
   "cell_type": "markdown",
   "id": "ffc4bf1c",
   "metadata": {},
   "source": []
  }
 ],
 "metadata": {
  "kernelspec": {
   "display_name": "workshop-pdf-rag",
   "language": "python",
   "name": "python3"
  },
  "language_info": {
   "codemirror_mode": {
    "name": "ipython",
    "version": 3
   },
   "file_extension": ".py",
   "mimetype": "text/x-python",
   "name": "python",
   "nbconvert_exporter": "python",
   "pygments_lexer": "ipython3",
   "version": "3.10.16"
  }
 },
 "nbformat": 4,
 "nbformat_minor": 5
}
