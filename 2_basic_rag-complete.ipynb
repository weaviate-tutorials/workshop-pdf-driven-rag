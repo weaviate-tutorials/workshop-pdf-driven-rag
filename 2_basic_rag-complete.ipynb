{
 "cells": [
  {
   "cell_type": "code",
   "execution_count": 1,
   "id": "ee5b434e",
   "metadata": {},
   "outputs": [
    {
     "data": {
      "text/plain": [
       "True"
      ]
     },
     "execution_count": 1,
     "metadata": {},
     "output_type": "execute_result"
    }
   ],
   "source": [
    "from dotenv import load_dotenv\n",
    "\n",
    "load_dotenv()"
   ]
  },
  {
   "cell_type": "markdown",
   "id": "e5f86938",
   "metadata": {},
   "source": [
    "## Basic RAG with Weaviate"
   ]
  },
  {
   "cell_type": "markdown",
   "id": "c5caf639",
   "metadata": {},
   "source": [
    "Now - let's try performing RAG with the chunks that we've created. \n",
    "\n",
    "We will:\n",
    "- Load & chunk a document\n",
    "- Add the chunks to Weaviate, and generate vectors\n",
    "- And perform RAG\n",
    "\n",
    "We assume some familiarity with Weaviate here. \n",
    "\n",
    "(If not, check out the [Weaviate Quickstart](https://docs.weaviate.io/weaviate/quickstart), or ask questions in the live session!)"
   ]
  },
  {
   "cell_type": "markdown",
   "id": "7bfefcb7",
   "metadata": {},
   "source": [
    "### Load and chunk a document"
   ]
  },
  {
   "cell_type": "code",
   "execution_count": 2,
   "id": "2679d84a",
   "metadata": {},
   "outputs": [],
   "source": [
    "from pathlib import Path\n",
    "\n",
    "def get_chunks_using_markers(src_text: str) -> list[str]:\n",
    "    \"\"\"\n",
    "    Split the source text into chunks using markers.\n",
    "    \"\"\"\n",
    "    marker = \"\\n##\"\n",
    "\n",
    "    # Split by marker and reconstruct with markers (except first chunk)\n",
    "    parts = src_text.split(marker)\n",
    "    chunks = []\n",
    "\n",
    "    # Add first chunk if it exists and isn't empty\n",
    "    if parts[0].strip():\n",
    "        chunks.append(parts[0].strip())\n",
    "\n",
    "    # Add remaining chunks with markers reattached\n",
    "    for part in parts[1:]:\n",
    "        if part.strip():\n",
    "            chunks.append(marker + part.strip())\n",
    "\n",
    "    return chunks\n",
    "\n",
    "\n",
    "md_file = Path(\"data/parsed/manual_bosch_WGG254Z0GR-parsed-text.md\")\n",
    "md_text = md_file.read_text(encoding=\"utf-8\")\n",
    "chunk_texts = get_chunks_using_markers(md_text)"
   ]
  },
  {
   "cell_type": "markdown",
   "id": "3cb5b1f4",
   "metadata": {},
   "source": [
    "### Set up Weaviate"
   ]
  },
  {
   "cell_type": "code",
   "execution_count": 3,
   "id": "07fcf6de",
   "metadata": {},
   "outputs": [],
   "source": [
    "import weaviate\n",
    "import os\n",
    "\n",
    "# Use Embedded Weaviate with:\n",
    "# version: latest available (e.g. \"1.32.0\"), headers = {\"X-Cohere-Api-Key\": os.getenv(\"COHERE_API_KEY\")}, env vars: {\"LOG_LEVEL\": \"error\"}\n",
    "# BEGIN_SOLUTION\n",
    "client = weaviate.connect_to_embedded(\n",
    "    version=\"1.32.0\",\n",
    "    headers={\n",
    "        \"X-Cohere-Api-Key\": os.getenv(\"COHERE_API_KEY\"),\n",
    "    },\n",
    "    environment_variables={\"LOG_LEVEL\": \"error\"}  # Reduce amount of logs\n",
    ")\n",
    "# END_SOLUTION"
   ]
  },
  {
   "cell_type": "markdown",
   "id": "1a7a68ec",
   "metadata": {},
   "source": [
    "### Set up a collection"
   ]
  },
  {
   "cell_type": "code",
   "execution_count": 4,
   "id": "aac3093c",
   "metadata": {},
   "outputs": [
    {
     "name": "stderr",
     "output_type": "stream",
     "text": [
      "{\"action\":\"load_all_shards\",\"build_git_commit\":\"7cebee0421\",\"build_go_version\":\"go1.24.5\",\"build_image_tag\":\"HEAD\",\"build_wv_version\":\"1.32.0\",\"level\":\"error\",\"msg\":\"failed to load all shards: context canceled\",\"time\":\"2025-07-17T13:32:44+01:00\"}\n"
     ]
    }
   ],
   "source": [
    "client.collections.delete(\"Chunks\")"
   ]
  },
  {
   "cell_type": "code",
   "execution_count": null,
   "id": "1bce4dfa",
   "metadata": {},
   "outputs": [
    {
     "data": {
      "text/plain": [
       "<weaviate.collections.collection.sync.Collection at 0x123c734c0>"
      ]
     },
     "execution_count": 5,
     "metadata": {},
     "output_type": "execute_result"
    }
   ],
   "source": [
    "from weaviate.classes.config import Property, DataType, Configure, Tokenization\n",
    "\n",
    "client.collections.create(\n",
    "    name=\"Chunks\",\n",
    "    properties=[\n",
    "        Property(\n",
    "            name=\"document_title\",\n",
    "            data_type=DataType.TEXT,\n",
    "        ),\n",
    "        Property(\n",
    "            name=\"chunk\",\n",
    "            data_type=DataType.TEXT,\n",
    "        ),\n",
    "        Property(\n",
    "            name=\"chunk_number\",\n",
    "            data_type=DataType.INT,\n",
    "        ),\n",
    "        Property(\n",
    "            name=\"filename\",\n",
    "            data_type=DataType.TEXT,\n",
    "            tokenization=Tokenization.FIELD\n",
    "        ),\n",
    "    ],\n",
    "    vector_config=[\n",
    "        # Add `Configure.Vectors.text2vec_cohere` vector to the collection with:\n",
    "        # name: \"default\", source properties: [\"document_title\", \"chunk\"], and model: \"embed-v4.0\"\n",
    "        # BEGIN_SOLUTION\n",
    "        Configure.Vectors.text2vec_cohere(\n",
    "            name=\"default\",\n",
    "            source_properties=[\"document_title\", \"chunk\"],\n",
    "            model=\"embed-v4.0\"\n",
    "        )\n",
    "        # END_SOLUTION\n",
    "    ]\n",
    ")"
   ]
  },
  {
   "cell_type": "markdown",
   "id": "37f24e74",
   "metadata": {},
   "source": [
    "### Import data"
   ]
  },
  {
   "cell_type": "code",
   "execution_count": 6,
   "id": "a975565b",
   "metadata": {},
   "outputs": [],
   "source": [
    "chunks = client.collections.get(\"Chunks\")"
   ]
  },
  {
   "cell_type": "code",
   "execution_count": null,
   "id": "fa01ede2",
   "metadata": {},
   "outputs": [
    {
     "name": "stderr",
     "output_type": "stream",
     "text": [
      "127it [00:00, 35072.20it/s]\n"
     ]
    }
   ],
   "source": [
    "from tqdm import tqdm\n",
    "\n",
    "with chunks.batch.fixed_size(batch_size=100) as batch:\n",
    "    for i, chunk_text in tqdm(enumerate(chunk_texts)):\n",
    "        obj = {\n",
    "            \"document_title\": \"Bosch WGG254Z0GR Manual\",\n",
    "            \"filename\": \"data/pdfs/manual_bosch_WGG254Z0GR.pdf\",\n",
    "            \"chunk\": chunk_text,\n",
    "            \"chunk_number\": i + 1,\n",
    "        }\n",
    "\n",
    "        # Add object to batch for import with (batch.add_object())\n",
    "        # BEGIN_SOLUTION\n",
    "        batch.add_object(\n",
    "            properties=obj\n",
    "        )\n",
    "        # END_SOLUTION"
   ]
  },
  {
   "cell_type": "markdown",
   "id": "f592d8f5",
   "metadata": {},
   "source": [
    "### RAG queries\n",
    "\n"
   ]
  },
  {
   "cell_type": "code",
   "execution_count": 8,
   "id": "c0f8a81e",
   "metadata": {},
   "outputs": [
    {
     "name": "stdout",
     "output_type": "stream",
     "text": [
      "Query response:\n",
      "To regularly maintain and clean the washing machine, you need to perform the following tasks:\n",
      "\n",
      "1. Clean the detergent drawer by removing it, cleaning it with water and a brush, and then drying it before fitting it back in place.\n",
      "2. Start an empty washing cycle to remove any residual water by pouring water and washing powder into the detergent drawer and running the cycle without any laundry.\n",
      "3. Regularly run a cleaning cycle for the drum or wash at temperatures of at least 60°C to prevent damage and maintain hygiene.\n",
      "4. Prepare your laundry properly by brushing off sand and soil, sorting laundry by color and fabric type, and following care labels for washing instructions.\n",
      "5. Rinse pretreated laundry thoroughly with water before washing to prevent any risk of explosion.\n",
      "6. Use the washing machine only for machine-washable fabrics and hand-washable wool, with tap water and suitable detergents, in a domestic environment up to 4000m above sea level.\n",
      "7. Follow the recommended programmes for different types of laundry, such as cotton, synthetic, delicate, wool, and special programmes like drum cleaning or quick wash cycles.\n",
      "8. Clean the drum and perform a draining cycle before the next wash to prevent unused detergent from causing issues in the next cycle.\n"
     ]
    }
   ],
   "source": [
    "# Try a RAG query with:\n",
    "# query (what to search for): \"how to clean the washing machine\" and\n",
    "# grouped_task (prompt): \"Briefly, what tasks do I need to perform to regularly maintain and clean the washing machine?\"\n",
    "# limit (how many objects to fetch): 10\n",
    "# BEGIN_SOLUTION\n",
    "response = chunks.generate.hybrid(\n",
    "    query=\"how to clean the washing machine\",\n",
    "    limit=10,\n",
    "    grouped_task=\"Briefly, what tasks do I need to perform to regularly maintain and clean the washing machine?\"\n",
    ")\n",
    "# END_SOLUTION\n",
    "\n",
    "print(\"Query response:\")\n",
    "print(response.generative.text)"
   ]
  },
  {
   "cell_type": "markdown",
   "id": "40cc6cbf",
   "metadata": {},
   "source": [
    "### Recap - what's happening under the hood"
   ]
  },
  {
   "cell_type": "markdown",
   "id": "217d4730",
   "metadata": {},
   "source": [
    "![assets/llm_3_rag_weaviate.png](assets/llm_3_rag_weaviate.png)"
   ]
  },
  {
   "cell_type": "markdown",
   "id": "72249075",
   "metadata": {},
   "source": [
    "We can review the passages:"
   ]
  },
  {
   "cell_type": "code",
   "execution_count": 9,
   "id": "a151a2e0",
   "metadata": {},
   "outputs": [
    {
     "name": "stdout",
     "output_type": "stream",
     "text": [
      "Supporting passages:\n",
      "\n",
      "> Object: b32ac3ce-ae7f-5260-908c-717edd3c2b21:\n",
      "\n",
      "##17.2 Cleaning the detergent drawer\n",
      "\n",
      "1. Pull out the detergent drawer.\n",
      "2. Press down on the insert and remove the detergent drawer.\n",
      "\n",
      "<!-- image -->\n",
      "\n",
      "- en Cleaning and servicing\n",
      "3. Pull out the inser...\n",
      "\n",
      "> Object: 912f65d6-4652-598c-a1f4-8bb277f0a3a5:\n",
      "\n",
      "##6.1 Starting an empty washing cycle\n",
      "\n",
      "Your appliance was inspected thoroughly before leaving the factory. To remove any residual water, run the first wash cycle without any laundry.\n",
      "\n",
      "1. Turn the pro...\n",
      "\n",
      "> Object: dc708050-4e09-5b4d-bc24-ba1bb2526d67:\n",
      "\n",
      "##Risk of injury!\n",
      "\n",
      "Permanently washing at low temperatures and a lack of ventilation for the appliance may damage the drum and cause injury.\n",
      "\n",
      "- Regularly run a programme for cleaning the drum or wash...\n",
      "\n",
      "> Object: 6d7eb232-171b-559f-b049-fb799102997c:\n",
      "\n",
      "##Note\n",
      "\n",
      "The appliance and fabrics are protected when you prepare your laundry.\n",
      "\n",
      "- ¡ Brush off sand and soil\n",
      "- ¡ Sort the laundry according to colour and textiles and observe the care labels\n",
      "- ¡ Tie c...\n",
      "\n",
      "> Object: 2c2ebe79-c65c-5846-9d0e-9a1b9d27210c:\n",
      "\n",
      "##WARNING - Risk of explosion!\n",
      "\n",
      "Laundry that has been pretreated with cleaning agents that contain solvents may cause an explosion in the appliance.\n",
      "\n",
      "- Rinse pretreated laundry thoroughly with water ...\n",
      "\n",
      "> Object: 3d5ef90b-bc51-5673-9eac-1e10eec63c13:\n",
      "\n",
      "##1.2 Intended use\n",
      "\n",
      "Only use this appliance:\n",
      "\n",
      "- ¡ For washing machine-washable fabrics and hand-washable wool in accordance with the care label.\n",
      "- ¡ With tap water and commercially available detergen...\n",
      "\n",
      "> Object: 658f6dcd-0b87-5ac6-aebc-9305ce9bdc57:\n",
      "\n",
      "##9 Programmes\n",
      "\n",
      "Note: The laundry's care labels provide you with additional information on programme selection.\n",
      "\n",
      "| Programme                                        | Description                      ...\n",
      "\n",
      "> Object: c6cd6a95-c13c-555a-af28-74cea2db1b90:\n",
      "\n",
      "##17.1 Cleaning the drum\n",
      "\n",
      "<!-- image -->...\n",
      "\n",
      "> Object: b539431b-7139-5b19-bce0-f6bbd571a494:\n",
      "\n",
      "##Before the next wash\n",
      "\n",
      "To prevent unused detergent from flowing straight into the outlet in the next wash, run a suitable programme for draining after you have emptied the drain pump.\n",
      "\n",
      "1. Open the w...\n",
      "\n",
      "> Object: ad39cdbc-edfd-5de3-ada8-bdae3d68a3e1:\n",
      "\n",
      "##Washing machine...\n"
     ]
    }
   ],
   "source": [
    "print(\"Supporting passages:\")\n",
    "for o in response.objects:\n",
    "    print(f\"\\n> Object: {o.uuid}:\")\n",
    "    print(o.properties['chunk'][:200]+\"...\")"
   ]
  },
  {
   "cell_type": "code",
   "execution_count": 10,
   "id": "3d5845fe",
   "metadata": {},
   "outputs": [
    {
     "name": "stderr",
     "output_type": "stream",
     "text": [
      "{\"build_git_commit\":\"7cebee0421\",\"build_go_version\":\"go1.24.5\",\"build_image_tag\":\"HEAD\",\"build_wv_version\":\"1.32.0\",\"error\":\"context canceled\",\"level\":\"error\",\"msg\":\"replication engine failed to start after FSM caught up\",\"time\":\"2025-07-17T13:32:59+01:00\"}\n",
      "{\"build_git_commit\":\"7cebee0421\",\"build_go_version\":\"go1.24.5\",\"build_image_tag\":\"HEAD\",\"build_wv_version\":\"1.32.0\",\"error\":\"cannot find peer\",\"level\":\"error\",\"msg\":\"transferring leadership\",\"time\":\"2025-07-17T13:32:59+01:00\"}\n"
     ]
    }
   ],
   "source": [
    "client.close()"
   ]
  }
 ],
 "metadata": {
  "kernelspec": {
   "display_name": ".venv",
   "language": "python",
   "name": "python3"
  },
  "language_info": {
   "codemirror_mode": {
    "name": "ipython",
    "version": 3
   },
   "file_extension": ".py",
   "mimetype": "text/x-python",
   "name": "python",
   "nbconvert_exporter": "python",
   "pygments_lexer": "ipython3",
   "version": "3.10.16"
  }
 },
 "nbformat": 4,
 "nbformat_minor": 5
}
