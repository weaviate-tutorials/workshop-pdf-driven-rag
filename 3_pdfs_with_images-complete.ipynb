{
 "cells": [
  {
   "cell_type": "code",
   "execution_count": 1,
   "id": "f8d06ab9",
   "metadata": {},
   "outputs": [
    {
     "data": {
      "text/plain": [
       "True"
      ]
     },
     "execution_count": 1,
     "metadata": {},
     "output_type": "execute_result"
    }
   ],
   "source": [
    "from dotenv import load_dotenv\n",
    "\n",
    "load_dotenv()"
   ]
  },
  {
   "cell_type": "markdown",
   "id": "7c4a081d",
   "metadata": {},
   "source": [
    "## Working with PDFs with images"
   ]
  },
  {
   "cell_type": "markdown",
   "id": "953ce690",
   "metadata": {},
   "source": [
    "PDFs contain more than rich formatting - they have images!\n",
    "\n",
    "<img src=\"data/imgs/manual_bosch_WGG254Z0GR_36_of_56.png\" width=\"250px\" />\n",
    "<img src=\"data/imgs/manual_bosch_WGG254Z0GR_37_of_56.png\" width=\"250px\" />\n",
    "<img src=\"data/imgs/manual_bosch_WGG254Z0GR_38_of_56.png\" width=\"250px\" />\n",
    "\n",
    "How do we work with these for RAG?"
   ]
  },
  {
   "cell_type": "markdown",
   "id": "68d2d4de",
   "metadata": {},
   "source": [
    "### Approach 1 - Extract text and images separately"
   ]
  },
  {
   "cell_type": "markdown",
   "id": "50c0287c",
   "metadata": {},
   "source": [
    "Some libraries (like `docling`) can extract text and images from PDFs, and convert them into Markdown files."
   ]
  },
  {
   "cell_type": "code",
   "execution_count": 2,
   "id": "e3ea399d",
   "metadata": {},
   "outputs": [],
   "source": [
    "from pathlib import Path\n",
    "\n",
    "data_folder = Path(\"data/pdfs\")\n",
    "output_dir = Path(\"data/parsed\")\n",
    "output_dir.mkdir(parents=True, exist_ok=True)"
   ]
  },
  {
   "cell_type": "code",
   "execution_count": 3,
   "id": "23684011",
   "metadata": {},
   "outputs": [
    {
     "name": "stdout",
     "output_type": "stream",
     "text": [
      "Processing file: howto-free-threading-python.pdf\n",
      "Converting document data/pdfs/howto-free-threading-python.pdf to multimodal pages...\n",
      "Skipping data/parsed/howto-free-threading-python-parsed-w-imgs.md as it already exists.\n",
      "Processing file: manual_bosch_WGG254Z0GR.pdf\n",
      "Converting document data/pdfs/manual_bosch_WGG254Z0GR.pdf to multimodal pages...\n",
      "Skipping data/parsed/manual_bosch_WGG254Z0GR-parsed-w-imgs.md as it already exists.\n"
     ]
    }
   ],
   "source": [
    "from docling.datamodel.base_models import InputFormat\n",
    "from docling.datamodel.pipeline_options import PdfPipelineOptions\n",
    "from docling.document_converter import DocumentConverter, PdfFormatOption\n",
    "from docling_core.types.doc import ImageRefMode\n",
    "\n",
    "IMAGE_RESOLUTION_SCALE = 2.0\n",
    "\n",
    "\n",
    "def parse_pdf_with_images(input_doc_path: Path, output_dir: Path):\n",
    "    # Reference: https://docling-project.github.io/docling/examples/export_figures/\n",
    "    md_filename = output_dir / f\"{input_doc_path.name.split('.')[0]}-parsed-w-imgs.md\"\n",
    "    if md_filename.exists():\n",
    "        print(f\"Skipping {md_filename} as it already exists.\")\n",
    "        return\n",
    "\n",
    "    pipeline_options = PdfPipelineOptions()\n",
    "    pipeline_options.images_scale = IMAGE_RESOLUTION_SCALE\n",
    "    pipeline_options.generate_picture_images = True\n",
    "\n",
    "    doc_converter = DocumentConverter(\n",
    "        format_options={\n",
    "            InputFormat.PDF: PdfFormatOption(pipeline_options=pipeline_options)\n",
    "        }\n",
    "    )\n",
    "\n",
    "    conv_res = doc_converter.convert(input_doc_path)\n",
    "\n",
    "    # Save markdown with embedded pictures\n",
    "    conv_res.document.save_as_markdown(md_filename, image_mode=ImageRefMode.REFERENCED)\n",
    "\n",
    "\n",
    "pdf_names = [f.name for f in data_folder.glob(\"*.pdf\") if f.is_file()]\n",
    "\n",
    "for pdf_fname in pdf_names:\n",
    "    print(f\"Processing file: {pdf_fname}\")\n",
    "\n",
    "    input_doc_path = data_folder / pdf_fname\n",
    "\n",
    "    print(f\"Converting document {input_doc_path} to multimodal pages...\")\n",
    "    parse_pdf_with_images(input_doc_path, output_dir)\n"
   ]
  },
  {
   "cell_type": "code",
   "execution_count": 4,
   "id": "22e8a60c",
   "metadata": {},
   "outputs": [
    {
     "name": "stdout",
     "output_type": "stream",
     "text": [
      "![Image](manual_bosch_WGG254Z0GR-parsed-w-imgs_artifacts/image_000000_5c54d11a8c20ca25ddd9d2f56c9f9680ede4e06e7883ce26742dd8b92f37e50b.png)\n",
      "\n",
      "![Image](manual_bosch_WGG254Z0GR-parsed-w-imgs_artifacts/image_000001_b4602c47a93b10cce1805fd72fa0b8d8885610e99dc4769a522107f918300343.png)\n",
      "\n",
      "## Washing machine\n",
      "\n",
      "## WGG254Z0GR\n",
      "\n",
      "User manual and installation\n",
      "\n",
      "[en] instructions\n",
      "\n",
      "## Futher information and explanations are available online:\n",
      "\n",
      "![Image](manual_bosch_WGG254Z0GR-parsed-w-imgs_artifacts/image_000002_71ba2e278ecb31d5477d5b97185c8f2215227116e1615b161b0883eeea87bb26.png)\n",
      "\n",
      "## Table of contents\n",
      "\n",
      "| 1 Safety...........................................                      | 1 Safety...........................................                        | 4                           |\n",
      "|--------------------------------------------------------------------------|----------------------------------------------------------------------------|-----------------------------|\n",
      "| 1.1                                    \n"
     ]
    }
   ],
   "source": [
    "md_filepath = Path(\"data/parsed/manual_bosch_WGG254Z0GR-parsed-w-imgs.md\")\n",
    "md_txt = md_filepath.read_text()\n",
    "print(md_txt[:1000])"
   ]
  },
  {
   "cell_type": "markdown",
   "id": "6f0297db",
   "metadata": {},
   "source": [
    "#### Chunking text files with images"
   ]
  },
  {
   "cell_type": "markdown",
   "id": "a4ee9281",
   "metadata": {},
   "source": [
    "More complex than just text, since we need to handle images as well.\n",
    "\n",
    "- Must include entire image string in the chunk\n",
    "- When vectorizing, optionally include base64 of image\n",
    "    - Your embedding model must be multimodal\n",
    "\n",
    "Chunking becomes more complex."
   ]
  },
  {
   "cell_type": "markdown",
   "id": "bd48bb25",
   "metadata": {},
   "source": [
    "One method: try a specialized library like `chonkie` to handle this\n",
    "\n",
    "Chonkie offers a variety of chunking strategies:\n",
    "\n",
    "<img src=\"assets/chonkie_methods.png\" />"
   ]
  },
  {
   "cell_type": "markdown",
   "id": "7aeea62c",
   "metadata": {},
   "source": [
    "There isn't going to be a \"one size fits all\" solution for chunking PDFs with images. But these libraries can help you get started."
   ]
  },
  {
   "cell_type": "markdown",
   "id": "9daef5ae",
   "metadata": {},
   "source": [
    "Let's try a couple of different approaches:"
   ]
  },
  {
   "cell_type": "code",
   "execution_count": 5,
   "id": "7adb5c64",
   "metadata": {},
   "outputs": [],
   "source": [
    "from chonkie import RecursiveChunker\n",
    "\n",
    "# Initialize the recursive chunker to chunk Markdown\n",
    "chunker = RecursiveChunker.from_recipe(\"markdown\", lang=\"en\")"
   ]
  },
  {
   "cell_type": "code",
   "execution_count": 6,
   "id": "7d61fca6",
   "metadata": {},
   "outputs": [],
   "source": [
    "chunk_texts = chunker.chunk(md_txt)"
   ]
  },
  {
   "cell_type": "code",
   "execution_count": 7,
   "id": "4d8d48b6",
   "metadata": {},
   "outputs": [
    {
     "name": "stdout",
     "output_type": "stream",
     "text": [
      "\n",
      "========================================\n",
      "Token count: 569\n",
      "Chunk text:\n",
      "    ![Image](manual_bosch_WGG254Z0GR-parsed-w-imgs_artifacts/image_000000_5c54d11a8c\n",
      "    20ca25ddd9d2f56c9f9680ede4e06e7883ce26742dd8b92f37e50b.png)\n",
      "    ![Image](manual_bosch_WGG254Z0GR-parsed-w-imgs_artifacts/image_000001_b4602c47a9\n",
      "    3b10cce1805fd72fa0b8d8885610e99dc4769a522107f918300343.png)  ## Washing machine\n",
      "    ## WGG254Z0GR  User manual and installation  [en] instructions  ## Futher\n",
      "    information and explanations are available online:\n",
      "    ![Image](manual_bosch_WGG254Z0GR-parsed-w-imgs_artifacts/image_000002_71...\n",
      "\n",
      "========================================\n",
      "Token count: 2046\n",
      "Chunk text:\n",
      "    ## Table of contents  | 1 Safety...........................................\n",
      "    | 1 Safety...........................................                        | 4\n",
      "    | |--------------------------------------------------------------------------|--\n",
      "    --------------------------------------------------------------------------|-----\n",
      "    ------------------------| | 1.1\n",
      "    | General information.................\n",
      "\n",
      "========================================\n",
      "Token count: 2024\n",
      "Chunk text:\n",
      "    | 3.2                                                                      |\n",
      "    Save energy and conserve resources.................................        | 11\n",
      "    | | 3.3                                                                      |\n",
      "    Energy saving mode ...............                                         | 11\n",
      "    | | 4 Installation and connection......                                      | 4\n",
      "    Installation and connection......                    ...\n",
      "\n",
      "========================================\n",
      "Token count: 921\n",
      "Chunk text:\n",
      "    | 5.2                                                                      |\n",
      "    Detergent drawer.....................                                      | 17\n",
      "    | | 5.3                                                                      |\n",
      "    Control panel...........................                                   | 18\n",
      "    | | 6 Before using for the first time ..                                     | 6\n",
      "    Before using for the first time ..                   ...\n",
      "\n",
      "========================================\n",
      "Token count: 1980\n",
      "Chunk text:\n",
      "    | 8 Buttons ......................................                            |\n",
      "    8 Buttons ......................................                            |\n",
      "    23 | |--------------------------------------------------------------------------\n",
      "    ---|----------------------------------------------------------------------------\n",
      "    -|------| | 9 Programmes..............................\n",
      "    | 9 Programmes..............................                                  |\n",
      "    25 | | 10 ...\n"
     ]
    }
   ],
   "source": [
    "import textwrap\n",
    "\n",
    "for chunk in chunk_texts[:5]:\n",
    "    print(f\"\\n\" + \"=\" * 40)\n",
    "    print(f\"Token count: {chunk.token_count}\")\n",
    "    print(f\"Chunk text:\")\n",
    "    wrapped_text = textwrap.fill(chunk.text[:500]+\"...\", width=80)\n",
    "    print(textwrap.indent(wrapped_text, \"    \"))"
   ]
  },
  {
   "cell_type": "markdown",
   "id": "991dde5e",
   "metadata": {},
   "source": [
    "Let's try a \"semantic\" chunker:"
   ]
  },
  {
   "cell_type": "code",
   "execution_count": 8,
   "id": "bc60d639",
   "metadata": {},
   "outputs": [],
   "source": [
    "from chonkie import SemanticChunker\n",
    "\n",
    "# Basic initialization with default parameters\n",
    "chunker = SemanticChunker(\n",
    "    embedding_model=\"minishlab/potion-base-8M\",  # Default model\n",
    "    threshold=0.5,                               # Similarity threshold (0-1) or (1-100) or \"auto\"\n",
    "    chunk_size=2048,                              # Maximum tokens per chunk\n",
    "    min_sentences=1                              # Initial sentences per chunk\n",
    ")"
   ]
  },
  {
   "cell_type": "code",
   "execution_count": 9,
   "id": "29aed757",
   "metadata": {},
   "outputs": [],
   "source": [
    "# Chunk text into `chunk_texts` as we've done before\n",
    "# BEGIN_SOLUTION\n",
    "chunk_texts = chunker.chunk(md_txt)\n",
    "# END_SOLUTION"
   ]
  },
  {
   "cell_type": "code",
   "execution_count": 10,
   "id": "e7042aec",
   "metadata": {},
   "outputs": [
    {
     "name": "stdout",
     "output_type": "stream",
     "text": [
      "\n",
      "========================================\n",
      "Token count: 203\n",
      "Chunk text:\n",
      "    ![Image](manual_bosch_WGG254Z0GR-parsed-w-imgs_artifacts/image_000000_5c54d11a8c\n",
      "    20ca25ddd9d2f56c9f9680ede4e06e7883ce26742dd8b92f37e50b.png)\n",
      "    ![Image](manual_bosch_WGG254Z0GR-parsed-w-imgs_artifacts/image_000001_b4602c47a9\n",
      "    3b10cce1805fd72fa0b8d8885610e99dc4769a522107f918300343.png)  ## Washing machine\n",
      "    ## WGG254Z0GR  User manual and installation  [en] instructions  ## Futher\n",
      "    information and explanations are available online: ...\n",
      "\n",
      "========================================\n",
      "Token count: 134\n",
      "Chunk text:\n",
      "     ![Image](manual_bosch_WGG254Z0GR-parsed-w-imgs_artifacts/image_000002_71ba2e278\n",
      "    ecb31d5477d5b97185c8f2215227116e1615b161b0883eeea87bb26.png)  ## Table of\n",
      "    contents  | 1 Safety........................................... ...\n",
      "\n",
      "========================================\n",
      "Token count: 1953\n",
      "Chunk text:\n",
      "                         | 1 Safety...........................................\n",
      "    | 4                           | |-----------------------------------------------\n",
      "    ---------------------------|----------------------------------------------------\n",
      "    ------------------------|-----------------------------| | 1.1\n",
      "    | General information...................                                     | 4\n",
      "    | | ...\n",
      "\n",
      "========================================\n",
      "Token count: 1505\n",
      "Chunk text:\n",
      "    | 13.4 Loading laundry.....................                                   |\n",
      "    13.4 Loading laundry.....................                                   |\n",
      "    30 | | 13.5 Inserting the measuring aid for liquid detergent................\n",
      "    | 13.5 Inserting the measuring aid for liquid detergent................       |\n",
      "    30 | | 13.6 Use the measuring aid for liquid detergent .....................\n",
      "    | 13.6 Use the measuring aid for liquid detergent .....................       |\n",
      "    31 | | 13....\n",
      "\n",
      "========================================\n",
      "Token count: 91\n",
      "Chunk text:\n",
      "     ![Image](manual_bosch_WGG254Z0GR-parsed-w-imgs_artifacts/image_000003_43c217227\n",
      "    dc376eaa05bebc2bc182a5ada70f7ce71ab35b01a9a83735585f1c0.png)  ## 1 Safety\n",
      "    Observe the following safety instructions. ...\n"
     ]
    }
   ],
   "source": [
    "for chunk in chunk_texts[:5]:\n",
    "    print(f\"\\n\" + \"=\" * 40)\n",
    "    print(f\"Token count: {chunk.token_count}\")\n",
    "    print(f\"Chunk text:\")\n",
    "    wrapped_text = textwrap.fill(chunk.text[:500]+\"...\", width=80)\n",
    "    print(textwrap.indent(wrapped_text, \"    \"))"
   ]
  },
  {
   "cell_type": "markdown",
   "id": "92a2a8a4",
   "metadata": {},
   "source": [
    "### Set up Weaviate Collection"
   ]
  },
  {
   "cell_type": "code",
   "execution_count": 11,
   "id": "22933c0f",
   "metadata": {},
   "outputs": [
    {
     "name": "stderr",
     "output_type": "stream",
     "text": [
      "huggingface/tokenizers: The current process just got forked, after parallelism has already been used. Disabling parallelism to avoid deadlocks...\n",
      "To disable this warning, you can either:\n",
      "\t- Avoid using `tokenizers` before the fork if possible\n",
      "\t- Explicitly set the environment variable TOKENIZERS_PARALLELISM=(true | false)\n"
     ]
    }
   ],
   "source": [
    "import weaviate\n",
    "import os\n",
    "\n",
    "client = weaviate.connect_to_embedded(\n",
    "    version=\"1.32.0\",\n",
    "    headers={\n",
    "        \"X-Cohere-Api-Key\": os.getenv(\"COHERE_API_KEY\"),\n",
    "    },\n",
    "    environment_variables={\"LOG_LEVEL\": \"error\"}  # Reduce amount of logs\n",
    ")"
   ]
  },
  {
   "cell_type": "code",
   "execution_count": 12,
   "id": "842550b9",
   "metadata": {},
   "outputs": [
    {
     "name": "stderr",
     "output_type": "stream",
     "text": [
      "{\"action\":\"load_all_shards\",\"build_git_commit\":\"7cebee0421\",\"build_go_version\":\"go1.24.5\",\"build_image_tag\":\"HEAD\",\"build_wv_version\":\"1.32.0\",\"level\":\"error\",\"msg\":\"failed to load all shards: context canceled\",\"time\":\"2025-07-17T13:38:37+01:00\"}\n"
     ]
    }
   ],
   "source": [
    "client.collections.delete(\"Chunks\")"
   ]
  },
  {
   "cell_type": "code",
   "execution_count": 13,
   "id": "4e202bae",
   "metadata": {},
   "outputs": [
    {
     "data": {
      "text/plain": [
       "<weaviate.collections.collection.sync.Collection at 0x11ae919f0>"
      ]
     },
     "execution_count": 13,
     "metadata": {},
     "output_type": "execute_result"
    }
   ],
   "source": [
    "from weaviate.classes.config import Property, DataType, Configure, Tokenization\n",
    "\n",
    "client.collections.create(\n",
    "    name=\"Chunks\",\n",
    "    properties=[\n",
    "        Property(\n",
    "            name=\"document_title\",\n",
    "            data_type=DataType.TEXT,\n",
    "        ),\n",
    "        Property(\n",
    "            name=\"chunk\",\n",
    "            data_type=DataType.TEXT,\n",
    "        ),\n",
    "        Property(\n",
    "            name=\"chunk_number\",\n",
    "            data_type=DataType.INT,\n",
    "        ),\n",
    "        Property(\n",
    "            name=\"filename\",\n",
    "            data_type=DataType.TEXT,\n",
    "            tokenization=Tokenization.FIELD\n",
    "        ),\n",
    "    ],\n",
    "    vector_config=[\n",
    "        Configure.Vectors.text2vec_cohere(\n",
    "            name=\"default\",\n",
    "            source_properties=[\"document_title\", \"chunk\"],\n",
    "            model=\"embed-v4.0\"\n",
    "        )\n",
    "    ]\n",
    ")"
   ]
  },
  {
   "cell_type": "code",
   "execution_count": 14,
   "id": "7c9e2f9f",
   "metadata": {},
   "outputs": [],
   "source": [
    "chunks = client.collections.get(\"Chunks\")"
   ]
  },
  {
   "cell_type": "markdown",
   "id": "f34f3bad",
   "metadata": {},
   "source": [
    "### Import data"
   ]
  },
  {
   "cell_type": "code",
   "execution_count": 15,
   "id": "dee53991",
   "metadata": {},
   "outputs": [
    {
     "name": "stderr",
     "output_type": "stream",
     "text": [
      "170it [00:00, 44131.44it/s]\n"
     ]
    }
   ],
   "source": [
    "from tqdm import tqdm\n",
    "\n",
    "with chunks.batch.fixed_size(batch_size=100) as batch:\n",
    "    for i, chunk_text in tqdm(enumerate(chunk_texts)):\n",
    "        obj = {\n",
    "            \"document_title\": \"Bosch WGG254Z0GR Manual\",\n",
    "            \"filename\": \"data/pdfs/manual_bosch_WGG254Z0GR.pdf\",\n",
    "            \"chunk\": chunk_text.text,\n",
    "            \"chunk_number\": i + 1,\n",
    "        }\n",
    "\n",
    "        # Add object to batch for import with (batch.add_object())\n",
    "        # BEGIN_SOLUTION\n",
    "        batch.add_object(\n",
    "            properties=obj\n",
    "        )\n",
    "        # END_SOLUTION"
   ]
  },
  {
   "cell_type": "markdown",
   "id": "f0ed8bc9",
   "metadata": {},
   "source": [
    "### RAG queries\n",
    "\n",
    "How do we perform RAG in this scenario? "
   ]
  },
  {
   "cell_type": "markdown",
   "id": "cd3e0fed",
   "metadata": {},
   "source": [
    "This is a bit different, because we haven't embedded the images (or stored them in Weaviate).\n",
    "\n",
    "In this scenario, let's:\n",
    "\n",
    "- Retrieve text chunks\n",
    "- Get images referred to in the text\n",
    "- Convert the images to base64\n",
    "- Send (retrieved text + images + prompt) to LLM for RAG"
   ]
  },
  {
   "cell_type": "code",
   "execution_count": 16,
   "id": "cae8dd66",
   "metadata": {},
   "outputs": [
    {
     "name": "stdout",
     "output_type": "stream",
     "text": [
      "\n",
      "========================================\n",
      "\n",
      "![Image](manual_bosch_WGG254Z0GR-parsed-w-imgs_artifacts/image_000058_04dccced21c2179765f4eb775befd46cac74f808901d8ae529124f232faa6274.png)\n",
      "\n",
      "![Image](manual_bosch_WGG254Z0GR-parsed-w-imgs_artifacts/image_000059_dd70b8adb294a82cbf04f72acae0f75d553d2b0f0aea2989a28c95d1114ed57c.png)\n",
      "\n",
      "![Image](manual_bosch_WGG254Z0GR-parsed-w-imgs_artifacts/image_000060_b0bd539957118736f36bb5b1cc063528eab6ea593cbe7b74a39885deabb28ff6.png)\n",
      "\n",
      "![Image](manual_bosch_WGG254Z0GR-parsed-w-imgs_artifacts/image_000061_c7bf0b232a5a96f943c0537143799264c3245cda435c48450457ef67e1389a97.png)\n",
      "\n",
      "## 17.3 Cleaning the drain pump\n",
      "\n",
      "Clean the drain pump regularly, at least once a year, as well as in the event of faults, e.g. ...\n",
      "\n",
      "========================================\n",
      "→ Page 36\n",
      "\n",
      "1. Since water may remain in the drain pump, unscrew the pump cap carefully.\n",
      "2. -The filter insert in the pump housing may become stuck due to coarse particles of dirt. Loosen the dirt and remove the filter insert.\n",
      "2. Clean the interior, the thread on the pump cap and the pump housing.\n",
      "3. Ensure that the impeller in the drain pump can rotate.\n",
      "4. Insert the pump cap.\n",
      "6. -Ensure that the parts of the pump cap are correctly assembled.\n",
      "5. Screw the pump cap as far as it will go.\n",
      "6. Insert and close the service flap.\n",
      "...\n",
      "\n",
      "========================================\n",
      "\n",
      "![Image](manual_bosch_WGG254Z0GR-parsed-w-imgs_artifacts/image_000063_a8e76238acf5760299c4db3ab393cfb0dc206501870092cea93f5ec4ffd1d91d.png)\n",
      "\n",
      "![Image](manual_bosch_WGG254Z0GR-parsed-w-imgs_artifacts/image_000064_80fa3eb55ebd5b939bb3de282c0eb7aceecd71fae8258f995eaa187c0440fca1.png)\n",
      "\n",
      "![Image](manual_bosch_WGG254Z0GR-parsed-w-imgs_artifacts/image_000065_12940a53eb232f4915ee5a982e7dcb0abcb1dacd8217212e8bc9e82d09c9eab9.png)\n",
      "\n",
      "![Image](manual_bosch_WGG254Z0GR-parsed-w-imgs_artifacts/image_000066_f45130e273ace124c0dfe1eb2cf24df44b409f1e5ed476a08f7258707d6eeccb.png)\n",
      "\n",
      "![Image](manual_bosch_WGG254Z0GR-parsed-w-imgs_artifacts/image_000067_0285ef2b0b7b3bd1c2ec2bb73750a2bac5a3d659f638a9c0726055a900c73a6a.png)\n",
      "\n",
      "## Cleaning the drain pump\n",
      "\n",
      "Requirement: The drain pump is empty. ...\n",
      "\n",
      "========================================\n",
      "\n",
      "![Image](manual_bosch_WGG254Z0GR-parsed-w-imgs_artifacts/image_000068_40b6b8903527dd9a25ebe4c15c2b5cffbb776d2b6996e25d56dcb7c1014e2f36.png)\n",
      "\n",
      "The pump cap is comprised of two parts which can be taken apart for cleaning.\n",
      "\n",
      "![Image](manual_bosch_WGG254Z0GR-parsed-w-imgs_artifacts/image_000069_f684bedd90de8cd92eec42ab813ba69eb13c75878c667eb290123f3969dd5d9c.png)\n",
      "\n",
      "![Image](manual_bosch_WGG254Z0GR-parsed-w-imgs_artifacts/image_000070_649eeae2cd52ac24fb0cc1dc29bac902184a62a16726cef6bf7fc4eb29489e51.png)\n",
      "\n",
      "The handle on the pump cap must be in a vertical position.\n",
      "\n",
      "![Image](manual_bosch_WGG254Z0GR-parsed-w-imgs_artifacts/image_000071_ec8454f955f0289fedeabd865018e6d973abd3ac2dfebc7bdb69d5600763e05c.png)\n",
      "\n",
      "![Image](manual_bosch_WGG254Z0GR-parsed-w-imgs_artifacts/image_000072_65a835a21e81d86c021da495d1d074d0a09813c499b60d832ed194f69945a8bb.png)\n",
      "\n",
      "## Before the next wash\n",
      "\n",
      "To prevent unused detergent from flowing straight into the outlet in the next wash, run a suitable programme for draining after yo...\n",
      "\n",
      "========================================\n",
      "\n",
      "![Image](manual_bosch_WGG254Z0GR-parsed-w-imgs_artifacts/image_000042_dce84c53dd0b619569807b2c19ad7ef8e74eca919dd24efcd08c92bb622ad685.png)\n",
      "\n",
      "On certain models, specific details such as the colour and shape may differ from those pictured.\n",
      "\n",
      "- 2 Maintenance flap for the drain pump → Page 36\n",
      "...\n",
      "\n",
      "========================================\n",
      "blockages or rattling noises.\n",
      "\n",
      "## Emptying the drain pump\n",
      "\n",
      "1. Turn off the tap.\n",
      "2. Switch off the appliance. → \"Switching off the appliance\", Page 32\n",
      "3. Disconnect the appliance's mains plug from the power supply.\n",
      "4. Open and remove the service flap.\n",
      "...\n",
      "\n",
      "========================================\n",
      "| \"E:30 / -80\"                                              | Drain pipe or water outlet hose is blocked. ▶ Clean the drain pipe and the water outlet hose.                                                                             |\n",
      "| \"E:30 / -80\"                                              | Drain pipe or water drain hose is caught or jammed. ▶ Ensure that the drain pipe and water drain hose are not kinked or trapped.                                          |\n",
      "| \"E:30 / -80\"                                              | The water outlet hose is connected too high. ▶ Install the water outlet hose at a maximum height of 1 metre.                                                              |\n",
      "| \"E:30 / -80\"                                              | Unapproved extension installed on the water drain hose. ▶ Remove any unapproved extensions from the water hose. → \"Connecting the appliance\", Page 14                     |\n",
      "| \"E:30 / -80\"                                              | Dr...\n",
      "\n",
      "========================================\n",
      "                      | Water is flushed under pressure into the detergent drawer. ▶ Not a fault - normal operating noise.                                                         |\n",
      "| Loud noises during the spin cycle.            | Appliance is not correctly aligned. ▶ → \"Aligning the appliance\", Page 16                                                                                  |\n",
      "| Loud noises during the spin cycle.            | The appliance feet are not fixed. ▶ Secure the appliance feet. → \"Aligning the appliance\", Page 16                                                         |\n",
      "| Loud noises during the spin cycle.            | Transit bolts have not been removed. ▶ → \"Removing the transit bolts\", Page 13 .                                                                           |\n",
      "| Banging noises, rat- tling in the drain pump. | Foreign bodies have got into the drain pump. ▶ → \"Cleaning the drain pump\", Page 36                                                                 ...\n",
      "\n",
      "========================================\n",
      "▶ Close the door.                                                                                                                                                                                                                                                                                        |\n",
      "| The programme does not start. | Childproof lock is activated. ▶ Deactivate childproof lock. → \"Deactivating the childproof lock\", Page 33                                                                                                                                                                                                                    |\n",
      "| The programme does not start. | Λήξη σε is activated. ▶ Check whether Λήξη σε is activated. → \"Buttons\", Page 23                                                                                                                                                                                                                                          ...\n",
      "\n",
      "========================================\n",
      "|-----------------------------------------------|------------------------------------------------------------------------------------------------------------------------------------------------------------|\n",
      "| The spin programme does not start.            | Drain pipe or water outlet hose is blocked. ▶ Clean the drain pipe and the water outlet hose.                                                              |\n",
      "| The spin programme does not start.            | Drain pipe or water drain hose is caught or jammed. ▶ Ensure that the drain pipe and water drain hose are not kinked or trapped.                           |\n",
      "| The spin programme does not start. ...\n"
     ]
    }
   ],
   "source": [
    "response = chunks.query.hybrid(\n",
    "    query=\"How to clean the drain pump\",\n",
    "    limit=10\n",
    ")\n",
    "\n",
    "for o in response.objects:\n",
    "    print(f\"\\n\" + \"=\" * 40)\n",
    "    print(o.properties[\"chunk\"][:1000] + \"...\")"
   ]
  },
  {
   "cell_type": "code",
   "execution_count": 17,
   "id": "5a729583",
   "metadata": {},
   "outputs": [],
   "source": [
    "import re\n",
    "\n",
    "def extract_image_paths(text):\n",
    "    \"\"\"Extract image paths from markdown-style image references.\"\"\"\n",
    "    pattern = r'!\\[.*?\\]\\((.*?)\\)'\n",
    "    return re.findall(pattern, text)"
   ]
  },
  {
   "cell_type": "code",
   "execution_count": 18,
   "id": "9d036efe",
   "metadata": {},
   "outputs": [],
   "source": [
    "def get_image_base64s(image_paths, base_path=None):\n",
    "    import base64\n",
    "    base64_images = []\n",
    "    for img_path in image_paths:\n",
    "        full_path = Path(base_path) / img_path if base_path else Path(img_path)\n",
    "        image_bytes = full_path.read_bytes()\n",
    "        base64_string = base64.b64encode(image_bytes).decode(\"utf-8\")\n",
    "        base64_images.append(base64_string)\n",
    "\n",
    "    return base64_images"
   ]
  },
  {
   "cell_type": "code",
   "execution_count": 19,
   "id": "430397bd",
   "metadata": {},
   "outputs": [],
   "source": [
    "all_chunks = \"\"\n",
    "all_images = []\n",
    "\n",
    "for o in response.objects:\n",
    "    chunk_text = o.properties[\"chunk\"]\n",
    "    image_paths = extract_image_paths(chunk_text)\n",
    "    all_images.extend(get_image_base64s(image_paths, base_path=\"data/parsed\"))\n",
    "\n",
    "    all_chunks += \"\\n\\n\" + chunk_text"
   ]
  },
  {
   "cell_type": "code",
   "execution_count": 20,
   "id": "d93da885",
   "metadata": {},
   "outputs": [],
   "source": [
    "task_text = \"\"\"\n",
    "How do I clean the drain pump? Answer based on the provided text and images.\n",
    "\n",
    "Describe the details from the figures as well, if necessary.\n",
    "\"\"\" + \"\\n\\n\" + all_chunks\n",
    "\n",
    "message = {\n",
    "    \"role\": \"user\", \"content\": [\n",
    "        {\"type\": \"text\", \"text\": task_text}\n",
    "    ]\n",
    "}\n",
    "\n",
    "for img in all_images:\n",
    "    content = {\n",
    "        \"type\": \"image\",\n",
    "        \"source\": {\n",
    "            \"type\": \"base64\",\n",
    "            \"media_type\": \"image/png\",\n",
    "            \"data\": img,\n",
    "        }\n",
    "    }\n",
    "    # Append `content`` to message[\"content\"]\n",
    "    # BEGIN_SOLUTION\n",
    "    message[\"content\"].append(content)\n",
    "    # END_SOLUTION"
   ]
  },
  {
   "cell_type": "code",
   "execution_count": 21,
   "id": "0ee4c148",
   "metadata": {},
   "outputs": [],
   "source": [
    "import anthropic\n",
    "\n",
    "anthropic_response = anthropic.Anthropic().messages.create(\n",
    "    model=\"claude-sonnet-4-20250514\",\n",
    "    max_tokens=1024,\n",
    "    # Add [message] as the messages to pass to Claude\n",
    "    # BEGIN_SOLUTION\n",
    "    messages=[message]\n",
    "    # END_SOLUTION\n",
    ")"
   ]
  },
  {
   "cell_type": "code",
   "execution_count": 22,
   "id": "754f2923",
   "metadata": {},
   "outputs": [
    {
     "name": "stdout",
     "output_type": "stream",
     "text": [
      "Based on the provided text and images, here's how to clean the drain pump:\n",
      "\n",
      "## Prerequisites:\n",
      "- Clean the drain pump regularly, at least once a year\n",
      "- First empty the drain pump (follow the emptying procedure shown in the images)\n",
      "- The drain pump must be empty before cleaning\n",
      "\n",
      "## Step-by-step cleaning process:\n",
      "\n",
      "1. **Unscrew the pump cap carefully** - Water may remain in the drain pump, so proceed cautiously.\n",
      "\n",
      "2. **Remove the filter insert** - The filter insert in the pump housing may become stuck due to coarse particles of dirt. Loosen the dirt and remove the filter insert.\n",
      "\n",
      "3. **Clean all components thoroughly:**\n",
      "   - Clean the interior of the pump housing\n",
      "   - Clean the thread on the pump cap\n",
      "   - Clean the pump housing itself\n",
      "\n",
      "4. **Check the impeller** - Ensure that the impeller in the drain pump can rotate freely.\n",
      "\n",
      "5. **Clean the pump cap** - The pump cap consists of two parts that can be taken apart for thorough cleaning (as shown in the images).\n",
      "\n",
      "6. **Reassemble properly:**\n",
      "   - Insert the pump cap\n",
      "   - Ensure that the parts of the pump cap are correctly assembled\n",
      "   - Screw the pump cap as far as it will go\n",
      "   - **Important**: The handle on the pump cap must be in a vertical position\n",
      "\n",
      "7. **Close the service flap** - Insert and close the service flap.\n",
      "\n",
      "## After cleaning:\n",
      "Run a suitable drainage program before the next wash to prevent unused detergent from flowing straight into the outlet.\n",
      "\n",
      "The images show the detailed step-by-step visual process of accessing the drain pump through the maintenance flap, unscrewing the pump cap, removing debris, and properly reassembling everything with the handle in the correct vertical position.\n"
     ]
    }
   ],
   "source": [
    "print(anthropic_response.content[0].text)"
   ]
  },
  {
   "cell_type": "code",
   "execution_count": 23,
   "id": "54d3533e",
   "metadata": {},
   "outputs": [
    {
     "name": "stderr",
     "output_type": "stream",
     "text": [
      "{\"build_git_commit\":\"7cebee0421\",\"build_go_version\":\"go1.24.5\",\"build_image_tag\":\"HEAD\",\"build_wv_version\":\"1.32.0\",\"error\":\"context canceled\",\"level\":\"error\",\"msg\":\"replication engine failed to start after FSM caught up\",\"time\":\"2025-07-17T13:38:57+01:00\"}\n",
      "{\"build_git_commit\":\"7cebee0421\",\"build_go_version\":\"go1.24.5\",\"build_image_tag\":\"HEAD\",\"build_wv_version\":\"1.32.0\",\"error\":\"cannot find peer\",\"level\":\"error\",\"msg\":\"transferring leadership\",\"time\":\"2025-07-17T13:38:57+01:00\"}\n"
     ]
    }
   ],
   "source": [
    "client.close()"
   ]
  },
  {
   "cell_type": "code",
   "execution_count": null,
   "id": "5d67fd35",
   "metadata": {},
   "outputs": [],
   "source": []
  }
 ],
 "metadata": {
  "kernelspec": {
   "display_name": ".venv",
   "language": "python",
   "name": "python3"
  },
  "language_info": {
   "codemirror_mode": {
    "name": "ipython",
    "version": 3
   },
   "file_extension": ".py",
   "mimetype": "text/x-python",
   "name": "python",
   "nbconvert_exporter": "python",
   "pygments_lexer": "ipython3",
   "version": "3.10.16"
  }
 },
 "nbformat": 4,
 "nbformat_minor": 5
}
