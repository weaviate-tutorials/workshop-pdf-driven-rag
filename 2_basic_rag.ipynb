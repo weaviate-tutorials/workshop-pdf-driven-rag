{
 "cells": [
  {
   "cell_type": "markdown",
   "id": "e5f86938",
   "metadata": {},
   "source": [
    "## Basic RAG with Weaviate"
   ]
  },
  {
   "cell_type": "code",
   "execution_count": 1,
   "id": "2679d84a",
   "metadata": {},
   "outputs": [],
   "source": [
    "from pathlib import Path\n",
    "\n",
    "def get_chunks_using_markers(src_text: str) -> list[str]:\n",
    "    \"\"\"\n",
    "    Split the source text into chunks using markers.\n",
    "    \"\"\"\n",
    "    marker = \"\\n##\"\n",
    "\n",
    "    # Split by marker and reconstruct with markers (except first chunk)\n",
    "    parts = src_text.split(marker)\n",
    "    chunks = []\n",
    "\n",
    "    # Add first chunk if it exists and isn't empty\n",
    "    if parts[0].strip():\n",
    "        chunks.append(parts[0].strip())\n",
    "\n",
    "    # Add remaining chunks with markers reattached\n",
    "    for part in parts[1:]:\n",
    "        if part.strip():\n",
    "            chunks.append(marker + part.strip())\n",
    "\n",
    "    return chunks\n",
    "\n",
    "\n",
    "md_file_1 = Path(\"data/parsed/manual_bosch_WGG254Z0GR-parsed-text.md\")\n",
    "md_text_1 = md_file_1.read_text(encoding=\"utf-8\")\n",
    "chunk_texts = get_chunks_using_markers(md_text_1)"
   ]
  },
  {
   "cell_type": "markdown",
   "id": "3cb5b1f4",
   "metadata": {},
   "source": [
    "### Set up Weaviate Collection"
   ]
  },
  {
   "cell_type": "code",
   "execution_count": 2,
   "id": "07fcf6de",
   "metadata": {},
   "outputs": [],
   "source": [
    "import weaviate\n",
    "import os\n",
    "\n",
    "client = weaviate.connect_to_embedded(\n",
    "    version=\"1.32.0\",\n",
    "    headers={\n",
    "        \"X-Cohere-Api-Key\": os.getenv(\"COHERE_API_KEY\"),\n",
    "    },\n",
    "    environment_variables={\"LOG_LEVEL\": \"error\"}  # Reduce amount of logs\n",
    ")"
   ]
  },
  {
   "cell_type": "code",
   "execution_count": 3,
   "id": "aac3093c",
   "metadata": {},
   "outputs": [],
   "source": [
    "client.collections.delete(\"Chunks\")"
   ]
  },
  {
   "cell_type": "code",
   "execution_count": 4,
   "id": "1bce4dfa",
   "metadata": {},
   "outputs": [
    {
     "data": {
      "text/plain": [
       "<weaviate.collections.collection.sync.Collection at 0x120e6ba30>"
      ]
     },
     "execution_count": 4,
     "metadata": {},
     "output_type": "execute_result"
    }
   ],
   "source": [
    "from weaviate.classes.config import Property, DataType, Configure, Tokenization\n",
    "\n",
    "client.collections.create(\n",
    "    name=\"Chunks\",\n",
    "    properties=[\n",
    "        Property(\n",
    "            name=\"document_title\",\n",
    "            data_type=DataType.TEXT,\n",
    "        ),\n",
    "        Property(\n",
    "            name=\"chunk\",\n",
    "            data_type=DataType.TEXT,\n",
    "        ),\n",
    "        Property(\n",
    "            name=\"chunk_number\",\n",
    "            data_type=DataType.INT,\n",
    "        ),\n",
    "        Property(\n",
    "            name=\"filename\",\n",
    "            data_type=DataType.TEXT,\n",
    "            tokenization=Tokenization.FIELD\n",
    "        ),\n",
    "    ],\n",
    "    vector_config=[\n",
    "        Configure.Vectors.text2vec_cohere(\n",
    "            name=\"default\",\n",
    "            source_properties=[\"document_title\", \"chunk\"],\n",
    "            model=\"embed-v4.0\"\n",
    "        )\n",
    "    ]\n",
    ")"
   ]
  },
  {
   "cell_type": "code",
   "execution_count": 5,
   "id": "a975565b",
   "metadata": {},
   "outputs": [],
   "source": [
    "chunks = client.collections.get(\"Chunks\")"
   ]
  },
  {
   "cell_type": "markdown",
   "id": "37f24e74",
   "metadata": {},
   "source": [
    "### Import data"
   ]
  },
  {
   "cell_type": "code",
   "execution_count": 6,
   "id": "fa01ede2",
   "metadata": {},
   "outputs": [
    {
     "name": "stderr",
     "output_type": "stream",
     "text": [
      "127it [00:00, 41206.51it/s]\n"
     ]
    }
   ],
   "source": [
    "from tqdm import tqdm\n",
    "from weaviate.util import generate_uuid5\n",
    "\n",
    "with chunks.batch.fixed_size(batch_size=100) as batch:\n",
    "    for i, chunk_text in tqdm(enumerate(chunk_texts)):\n",
    "        obj = {\n",
    "            \"document_title\": \"Bosch WGG254Z0GR Manual\",\n",
    "            \"filename\": \"data/pdfs/manual_bosch_WGG254Z0GR.pdf\",\n",
    "            \"chunk\": chunk_text,\n",
    "            \"chunk_number\": i + 1,\n",
    "        }\n",
    "\n",
    "        # Add object to batch for import\n",
    "        batch.add_object(\n",
    "            properties=obj,\n",
    "            uuid=generate_uuid5(obj),\n",
    "        )"
   ]
  },
  {
   "cell_type": "markdown",
   "id": "f592d8f5",
   "metadata": {},
   "source": [
    "### RAG queries\n",
    "\n"
   ]
  },
  {
   "cell_type": "code",
   "execution_count": 8,
   "id": "c0f8a81e",
   "metadata": {},
   "outputs": [
    {
     "name": "stdout",
     "output_type": "stream",
     "text": [
      "Query response:\n",
      "To regularly maintain and clean the washing machine, you need to perform the following tasks:\n",
      "\n",
      "1. Clean the detergent drawer by pulling it out, removing the insert, cleaning it with water and a brush, and then drying it before fitting it back in place.\n",
      "2. Start an empty washing cycle to remove any residual water by pouring water and washing powder into the detergent drawer and running the program.\n",
      "3. Regularly run a program for cleaning the drum or wash at temperatures of at least 60°C to prevent damage and injury.\n",
      "4. Prepare your laundry properly by brushing off sand and soil, sorting laundry according to color and textiles, and following care labels.\n",
      "5. Rinse pretreated laundry thoroughly with water before washing to avoid the risk of explosion.\n",
      "6. Use the washing machine only for machine-washable fabrics, tap water, and suitable detergents in a domestic environment.\n",
      "7. Follow the recommended programs for different types of laundry and load sizes to ensure proper washing and care for your clothes.\n",
      "8. Clean the drum and care for it by using a specific program with washing powder containing bleach.\n",
      "9. Before the next wash, run a suitable program for draining to prevent unused detergent from flowing into the outlet.\n"
     ]
    }
   ],
   "source": [
    "response = chunks.generate.hybrid(\n",
    "    query=\"how to clean the washing machine\",\n",
    "    limit=10,\n",
    "    grouped_task=\"Briefly, what tasks do I need to perform to regularly maintain and clean the washing machine?\"\n",
    ")\n",
    "\n",
    "print(\"Query response:\")\n",
    "print(response.generative.text)"
   ]
  },
  {
   "cell_type": "markdown",
   "id": "657f9588",
   "metadata": {},
   "source": [
    "![assets/llm_3_rag_weaviate.png](assets/llm_3_rag_weaviate.png)"
   ]
  },
  {
   "cell_type": "code",
   "execution_count": null,
   "id": "a151a2e0",
   "metadata": {},
   "outputs": [
    {
     "name": "stdout",
     "output_type": "stream",
     "text": [
      "Supporting passages:\n",
      "\n",
      "  > Result 1:\n",
      "     ##17.2 Cleaning the detergent drawer  1. Pull out the detergent drawer. 2.\n",
      "    Press down on the insert and remove the detergent drawer.  <!-- image -->  - en\n",
      "    Cleaning and servicing 3. Pull out the inser...\n",
      "\n",
      "  > Result 2:\n",
      "     ##6.1 Starting an empty washing cycle  Your appliance was inspected thoroughly\n",
      "    before leaving the factory. To remove any residual water, run the first wash\n",
      "    cycle without any laundry.  1. Turn the pro...\n",
      "\n",
      "  > Result 3:\n",
      "     ##Risk of injury!  Permanently washing at low temperatures and a lack of\n",
      "    ventilation for the appliance may damage the drum and cause injury.  - Regularly\n",
      "    run a programme for cleaning the drum or wash...\n",
      "\n",
      "  > Result 4:\n",
      "     ##Note  The appliance and fabrics are protected when you prepare your laundry.\n",
      "    - ¡ Brush off sand and soil - ¡ Sort the laundry according to colour and\n",
      "    textiles and observe the care labels - ¡ Tie c...\n",
      "\n",
      "  > Result 5:\n",
      "     ##WARNING - Risk of explosion!  Laundry that has been pretreated with cleaning\n",
      "    agents that contain solvents may cause an explosion in the appliance.  - Rinse\n",
      "    pretreated laundry thoroughly with water ...\n",
      "\n",
      "  > Result 6:\n",
      "     ##1.2 Intended use  Only use this appliance:  - ¡ For washing machine-washable\n",
      "    fabrics and hand-washable wool in accordance with the care label. - ¡ With tap\n",
      "    water and commercially available detergen...\n",
      "\n",
      "  > Result 7:\n",
      "     ##9 Programmes  Note: The laundry's care labels provide you with additional\n",
      "    information on programme selection.  | Programme\n",
      "    | Description                      ...\n",
      "\n",
      "  > Result 8:\n",
      "     ##17.1 Cleaning the drum  <!-- image -->...\n",
      "\n",
      "  > Result 9:\n",
      "     ##Before the next wash  To prevent unused detergent from flowing straight into\n",
      "    the outlet in the next wash, run a suitable programme for draining after you\n",
      "    have emptied the drain pump.  1. Open the w...\n",
      "\n",
      "  > Result 10:\n",
      "     ##Washing machine...\n"
     ]
    }
   ],
   "source": [
    "import textwrap\n",
    "\n",
    "print(\"Supporting passages:\")\n",
    "for i, o in enumerate(response.objects):\n",
    "    print(textwrap.indent(f\"\\n> Result {i + 1}:\", \"  \"))\n",
    "    wrapped_text = textwrap.fill(o.properties['chunk'][:200]+\"...\", width=80)\n",
    "    print(textwrap.indent(wrapped_text, \"    \"))"
   ]
  },
  {
   "cell_type": "code",
   "execution_count": null,
   "id": "3d5845fe",
   "metadata": {},
   "outputs": [],
   "source": []
  }
 ],
 "metadata": {
  "kernelspec": {
   "display_name": "workshop-pdf-rag",
   "language": "python",
   "name": "python3"
  },
  "language_info": {
   "codemirror_mode": {
    "name": "ipython",
    "version": 3
   },
   "file_extension": ".py",
   "mimetype": "text/x-python",
   "name": "python",
   "nbconvert_exporter": "python",
   "pygments_lexer": "ipython3",
   "version": "3.10.16"
  }
 },
 "nbformat": 4,
 "nbformat_minor": 5
}
