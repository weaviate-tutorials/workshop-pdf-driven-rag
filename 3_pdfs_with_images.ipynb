{
 "cells": [
  {
   "cell_type": "markdown",
   "id": "7c4a081d",
   "metadata": {},
   "source": [
    "## Working with PDFs with images"
   ]
  },
  {
   "cell_type": "markdown",
   "id": "953ce690",
   "metadata": {},
   "source": [
    "PDFs contain rich formatting - here's an example:\n",
    "\n",
    "<img src=\"data/imgs/manual_bosch_WGG254Z0GR_38_of_56.png\" width=\"400px\" />"
   ]
  },
  {
   "cell_type": "markdown",
   "id": "68d2d4de",
   "metadata": {},
   "source": [
    "### Approach 1 - Extract text and images separately"
   ]
  },
  {
   "cell_type": "markdown",
   "id": "50c0287c",
   "metadata": {},
   "source": [
    "Some libraries (like `docling`) can extract text and images from PDFs, and convert them into Markdown files."
   ]
  },
  {
   "cell_type": "code",
   "execution_count": 1,
   "id": "e3ea399d",
   "metadata": {},
   "outputs": [],
   "source": [
    "from pathlib import Path\n",
    "\n",
    "data_folder = Path(\"data/pdfs\")\n",
    "output_dir = Path(\"data/parsed\")\n",
    "output_dir.mkdir(parents=True, exist_ok=True)"
   ]
  },
  {
   "cell_type": "code",
   "execution_count": 2,
   "id": "23684011",
   "metadata": {},
   "outputs": [
    {
     "name": "stdout",
     "output_type": "stream",
     "text": [
      "Processing file: howto-free-threading-python.pdf\n",
      "Converting document data/pdfs/howto-free-threading-python.pdf to multimodal pages...\n",
      "Processing file: manual_bosch_WGG254Z0GR.pdf\n",
      "Converting document data/pdfs/manual_bosch_WGG254Z0GR.pdf to multimodal pages...\n"
     ]
    },
    {
     "name": "stderr",
     "output_type": "stream",
     "text": [
      "/Users/jphwang/code/demo-code/workshop-pdf-rag/.venv/lib/python3.10/site-packages/torch/utils/data/dataloader.py:683: UserWarning: 'pin_memory' argument is set as true but not supported on MPS now, then device pinned memory won't be used.\n",
      "  warnings.warn(warn_msg)\n",
      "/Users/jphwang/code/demo-code/workshop-pdf-rag/.venv/lib/python3.10/site-packages/torch/utils/data/dataloader.py:683: UserWarning: 'pin_memory' argument is set as true but not supported on MPS now, then device pinned memory won't be used.\n",
      "  warnings.warn(warn_msg)\n"
     ]
    }
   ],
   "source": [
    "from docling.datamodel.base_models import InputFormat\n",
    "from docling.datamodel.pipeline_options import PdfPipelineOptions\n",
    "from docling.document_converter import DocumentConverter, PdfFormatOption\n",
    "from docling_core.types.doc import ImageRefMode\n",
    "\n",
    "IMAGE_RESOLUTION_SCALE = 2.0\n",
    "\n",
    "\n",
    "def parse_pdf_with_images(input_doc_path: Path, output_dir: Path):\n",
    "    # Reference: https://docling-project.github.io/docling/examples/export_figures/\n",
    "    pipeline_options = PdfPipelineOptions()\n",
    "    pipeline_options.images_scale = IMAGE_RESOLUTION_SCALE\n",
    "    pipeline_options.generate_picture_images = True\n",
    "\n",
    "    doc_converter = DocumentConverter(\n",
    "        format_options={\n",
    "            InputFormat.PDF: PdfFormatOption(pipeline_options=pipeline_options)\n",
    "        }\n",
    "    )\n",
    "\n",
    "    conv_res = doc_converter.convert(input_doc_path)\n",
    "    # Save markdown with embedded pictures\n",
    "    md_filename = output_dir / f\"{input_doc_path.name.split('.')[0]}-parsed-w-imgs.md\"\n",
    "    conv_res.document.save_as_markdown(md_filename, image_mode=ImageRefMode.REFERENCED)\n",
    "\n",
    "\n",
    "pdf_names = [f.name for f in data_folder.glob(\"*.pdf\") if f.is_file()]\n",
    "\n",
    "for pdf_fname in pdf_names:\n",
    "    print(f\"Processing file: {pdf_fname}\")\n",
    "\n",
    "    input_doc_path = data_folder / pdf_fname\n",
    "\n",
    "    print(f\"Converting document {input_doc_path} to multimodal pages...\")\n",
    "    parse_pdf_with_images(input_doc_path, output_dir)\n"
   ]
  },
  {
   "cell_type": "code",
   "execution_count": 2,
   "id": "22e8a60c",
   "metadata": {},
   "outputs": [
    {
     "name": "stdout",
     "output_type": "stream",
     "text": [
      "![Image](manual_bosch_WGG254Z0GR-parsed-w-imgs_artifacts/image_000000_5c54d11a8c20ca25ddd9d2f56c9f9680ede4e06e7883ce26742dd8b92f37e50b.png)\n",
      "\n",
      "![Image](manual_bosch_WGG254Z0GR-parsed-w-imgs_artifacts/image_000001_b4602c47a93b10cce1805fd72fa0b8d8885610e99dc4769a522107f918300343.png)\n",
      "\n",
      "## Washing machine\n",
      "\n",
      "## WGG254Z0GR\n",
      "\n",
      "User manual and installation\n",
      "\n",
      "[en] instructions\n",
      "\n",
      "## Futher information and explanations are available online:\n",
      "\n",
      "![Image](manual_bosch_WGG254Z0GR-parsed-w-imgs_artifacts/image_000002_71ba2e278ecb31d5477d5b97185c8f2215227116e1615b161b0883eeea87bb26.png)\n",
      "\n",
      "## Table of contents\n",
      "\n",
      "| 1 Safety...........................................                      | 1 Safety...........................................                        | 4                           |\n",
      "|--------------------------------------------------------------------------|----------------------------------------------------------------------------|-----------------------------|\n",
      "| 1.1                                    \n"
     ]
    }
   ],
   "source": [
    "md_filepath = Path(\"data/parsed/manual_bosch_WGG254Z0GR-parsed-w-imgs.md\")\n",
    "md_txt = md_filepath.read_text()\n",
    "print(md_txt[:1000])"
   ]
  },
  {
   "cell_type": "markdown",
   "id": "6f0297db",
   "metadata": {},
   "source": [
    "#### Chunking text files with images"
   ]
  },
  {
   "cell_type": "markdown",
   "id": "a4ee9281",
   "metadata": {},
   "source": [
    "More complex than just text, since we need to handle images as well.\n",
    "\n",
    "- Must include entire image string in the chunk\n",
    "- When vectorizing, must replace image references with base64 of actual images\n",
    "\n",
    "One method: try a specialized library like `chonkie` to handle this"
   ]
  },
  {
   "cell_type": "markdown",
   "id": "bd48bb25",
   "metadata": {},
   "source": [
    "Chonkie offers a variety of chunking strategies:\n",
    "\n",
    "<img src=\"assets/chonkie_methods.png\" />"
   ]
  },
  {
   "cell_type": "markdown",
   "id": "7aeea62c",
   "metadata": {},
   "source": [
    "There isn't going to be a \"one size fits all\" solution for chunking PDFs with images. But these libraries can help you get started."
   ]
  },
  {
   "cell_type": "markdown",
   "id": "9daef5ae",
   "metadata": {},
   "source": [
    "Let's try a couple of different approaches:"
   ]
  },
  {
   "cell_type": "code",
   "execution_count": 12,
   "id": "7adb5c64",
   "metadata": {},
   "outputs": [
    {
     "data": {
      "application/vnd.jupyter.widget-view+json": {
       "model_id": "1be148e1f2fb42778929818a231bfd4e",
       "version_major": 2,
       "version_minor": 0
      },
      "text/plain": [
       "v1.schema.json: 0.00B [00:00, ?B/s]"
      ]
     },
     "metadata": {},
     "output_type": "display_data"
    },
    {
     "data": {
      "application/vnd.jupyter.widget-view+json": {
       "model_id": "2304cc04121d4ce79d69df2e378dfc65",
       "version_major": 2,
       "version_minor": 0
      },
      "text/plain": [
       "markdown_en.json: 0.00B [00:00, ?B/s]"
      ]
     },
     "metadata": {},
     "output_type": "display_data"
    }
   ],
   "source": [
    "from chonkie import RecursiveChunker\n",
    "\n",
    "# Initialize the recursive chunker to chunk Markdown\n",
    "chunker = RecursiveChunker.from_recipe(\"markdown\", lang=\"en\")"
   ]
  },
  {
   "cell_type": "code",
   "execution_count": 13,
   "id": "7d61fca6",
   "metadata": {},
   "outputs": [],
   "source": [
    "chunks = chunker.chunk(md_txt)"
   ]
  },
  {
   "cell_type": "code",
   "execution_count": 14,
   "id": "4d8d48b6",
   "metadata": {},
   "outputs": [
    {
     "name": "stdout",
     "output_type": "stream",
     "text": [
      "\n",
      "========================================\n",
      "Token count: 569\n",
      "Start index: 0\n",
      "End index: 569\n",
      "Chunk text: ![Image](manual_bosch_WGG254Z0GR-parsed-w-imgs_artifacts/image_000000_5c54d11a8c20ca25ddd9d2f56c9f9680ede4e06e7883ce26742dd8b92f37e50b.png)\n",
      "\n",
      "![Image](manual_bosch_WGG254Z0GR-parsed-w-imgs_artifacts/image_000001_b4602c47a93b10cce1805fd72fa0b8d8885610e99dc4769a522107f918300343.png)\n",
      "\n",
      "## Washing machine\n",
      "\n",
      "## WGG254Z0GR\n",
      "\n",
      "User manual and installation\n",
      "\n",
      "[en] instructions\n",
      "\n",
      "## Futher information and explanations are available online:\n",
      "\n",
      "![Image](manual_bosch_WGG254Z0GR-parsed-w-imgs_artifacts/image_000002_71ba2e278ecb31d5477d5b97185c8f2215227116e1615b161b0883eeea87bb26.png)\n",
      "\n",
      "\n",
      "\n",
      "========================================\n",
      "Token count: 2046\n",
      "Start index: 569\n",
      "End index: 2615\n",
      "Chunk text: ## Table of contents\n",
      "\n",
      "| 1 Safety...........................................                      | 1 Safety...........................................                        | 4                           |\n",
      "|--------------------------------------------------------------------------|----------------------------------------------------------------------------|-----------------------------|\n",
      "| 1.1                                                                      | General information...................                                     | 4                           |\n",
      "| 1.2                                                                      | Intended use..............................                                 | 4                           |\n",
      "| 1.3                                                                      | Restriction on user group..........                                        | 4                           |\n",
      "| 1.4                                                                      | Safe installation                                                          | ......................... 5 |\n",
      "| 1.5                                                                      | Safe use ....................................                              | 7                           |\n",
      "| 1.6                                                                      | Safe cleaning and mainten- ance........................................... | 9                           |\n",
      "| 2 Preventing material damage ....                                        | 2 Preventing material damage ....                                          | 10                          |\n",
      "| 3 Environmental protection and saving energy............................ | 3 Environmental protection and saving energy............................   | 11                          |\n",
      "| 3.1                                                                      | Disposing of packaging ..........                                          | 11                          |\n",
      "\n",
      "\n",
      "========================================\n",
      "Token count: 2024\n",
      "Start index: 2615\n",
      "End index: 4639\n",
      "Chunk text: | 3.2                                                                      | Save energy and conserve resources.................................        | 11                          |\n",
      "| 3.3                                                                      | Energy saving mode ...............                                         | 11                          |\n",
      "| 4 Installation and connection......                                      | 4 Installation and connection......                                        | 12                          |\n",
      "| 4.1                                                                      | Unpacking the appliance ........                                           | 12                          |\n",
      "| 4.2                                                                      | Contents of package...............                                         | 12                          |\n",
      "| 4.3                                                                      | Requirements for the install- ation location...........................    | 12                          |\n",
      "| 4.4                                                                      | Removing the transit bolts ......                                          | 13                          |\n",
      "| 4.5                                                                      | Connecting the appliance .......                                           | 14                          |\n",
      "| 4.6                                                                      | Aligning the appliance.............                                        | 16                          |\n",
      "| 5 Familiarising yourself with your appliance...........................  | 5 Familiarising yourself with your appliance...........................    | 17                          |\n",
      "| 5.1                                                                      | Appliance ................................                                 | 17                          |\n",
      "\n",
      "\n",
      "========================================\n",
      "Token count: 921\n",
      "Start index: 4639\n",
      "End index: 5560\n",
      "Chunk text: | 5.2                                                                      | Detergent drawer.....................                                      | 17                          |\n",
      "| 5.3                                                                      | Control panel...........................                                   | 18                          |\n",
      "| 6 Before using for the first time ..                                     | 6 Before using for the first time ..                                       | 19                          |\n",
      "| 6.1                                                                      | Starting an empty washing cycle ........................................   | 19                          |\n",
      "| 7                                                                        | Display.......................................                             | 20                          |\n",
      "\n",
      "\n",
      "\n",
      "========================================\n",
      "Token count: 1980\n",
      "Start index: 5560\n",
      "End index: 7540\n",
      "Chunk text: | 8 Buttons ......................................                            | 8 Buttons ......................................                            |   23 |\n",
      "|-----------------------------------------------------------------------------|-----------------------------------------------------------------------------|------|\n",
      "| 9 Programmes..............................                                  | 9 Programmes..............................                                  |   25 |\n",
      "| 10 Accessories.............................                                 | 10 Accessories.............................                                 |   29 |\n",
      "| 11 Laundry....................................                              | 11 Laundry....................................                              |   29 |\n",
      "| 11.1 Preparing the laundry............                                      | 11.1 Preparing the laundry............                                      |   29 |\n",
      "| 12 Detergents and care products ..................................          | 12 Detergents and care products ..................................          |   30 |\n",
      "| 13 Basic operation.......................                                   | 13 Basic operation.......................                                   |   30 |\n",
      "| 13.1 Switching on the appliance...                                          | 13.1 Switching on the appliance...                                          |   30 |\n",
      "| 13.2 Setting a programme ............                                       | 13.2 Setting a programme ............                                       |   30 |\n",
      "| 13.3 Adjusting the programme settings ..................................    | 13.3 Adjusting the programme settings ..................................    |   30 |\n",
      "| 13.4 Loading laundry.....................                                   | 13.4 Loading laundry.....................                                   |   30 |\n",
      "\n"
     ]
    }
   ],
   "source": [
    "for chunk in chunks[:5]:\n",
    "    print(f\"\\n\" + \"=\" * 40)\n",
    "    print(f\"Token count: {chunk.token_count}\")\n",
    "    print(f\"Start index: {chunk.start_index}\")\n",
    "    print(f\"End index: {chunk.end_index}\")\n",
    "    print(f\"Chunk text: {chunk.text}\")"
   ]
  },
  {
   "cell_type": "markdown",
   "id": "991dde5e",
   "metadata": {},
   "source": [
    "Let's try a \"semantic\" chunker:"
   ]
  },
  {
   "cell_type": "code",
   "execution_count": 9,
   "id": "bc60d639",
   "metadata": {},
   "outputs": [
    {
     "data": {
      "application/vnd.jupyter.widget-view+json": {
       "model_id": "24a90e7a0c6e4fcaaefdbf8654bb08e6",
       "version_major": 2,
       "version_minor": 0
      },
      "text/plain": [
       "model.safetensors:   0%|          | 0.00/30.2M [00:00<?, ?B/s]"
      ]
     },
     "metadata": {},
     "output_type": "display_data"
    },
    {
     "data": {
      "application/vnd.jupyter.widget-view+json": {
       "model_id": "98cb7f1c835d40f2adc705649d6c988d",
       "version_major": 2,
       "version_minor": 0
      },
      "text/plain": [
       "README.md: 0.00B [00:00, ?B/s]"
      ]
     },
     "metadata": {},
     "output_type": "display_data"
    },
    {
     "data": {
      "application/vnd.jupyter.widget-view+json": {
       "model_id": "7636839f7a984d3fba7485d36d53a972",
       "version_major": 2,
       "version_minor": 0
      },
      "text/plain": [
       "config.json:   0%|          | 0.00/202 [00:00<?, ?B/s]"
      ]
     },
     "metadata": {},
     "output_type": "display_data"
    },
    {
     "data": {
      "application/vnd.jupyter.widget-view+json": {
       "model_id": "17ea244019d04756868b06c78b9ee049",
       "version_major": 2,
       "version_minor": 0
      },
      "text/plain": [
       "tokenizer.json: 0.00B [00:00, ?B/s]"
      ]
     },
     "metadata": {},
     "output_type": "display_data"
    }
   ],
   "source": [
    "from chonkie import SemanticChunker\n",
    "\n",
    "# Basic initialization with default parameters\n",
    "chunker = SemanticChunker(\n",
    "    embedding_model=\"minishlab/potion-base-8M\",  # Default model\n",
    "    threshold=0.5,                               # Similarity threshold (0-1) or (1-100) or \"auto\"\n",
    "    chunk_size=2048,                              # Maximum tokens per chunk\n",
    "    min_sentences=1                              # Initial sentences per chunk\n",
    ")"
   ]
  },
  {
   "cell_type": "code",
   "execution_count": 10,
   "id": "29aed757",
   "metadata": {},
   "outputs": [],
   "source": [
    "chunks = chunker.chunk(md_txt)"
   ]
  },
  {
   "cell_type": "code",
   "execution_count": 11,
   "id": "e7042aec",
   "metadata": {},
   "outputs": [
    {
     "name": "stdout",
     "output_type": "stream",
     "text": [
      "\n",
      "========================================\n",
      "Token count: 203\n",
      "Start index: 0\n",
      "End index: 427\n",
      "Chunk text: ![Image](manual_bosch_WGG254Z0GR-parsed-w-imgs_artifacts/image_000000_5c54d11a8c20ca25ddd9d2f56c9f9680ede4e06e7883ce26742dd8b92f37e50b.png)\n",
      "\n",
      "![Image](manual_bosch_WGG254Z0GR-parsed-w-imgs_artifacts/image_000001_b4602c47a93b10cce1805fd72fa0b8d8885610e99dc4769a522107f918300343.png)\n",
      "\n",
      "## Washing machine\n",
      "\n",
      "## WGG254Z0GR\n",
      "\n",
      "User manual and installation\n",
      "\n",
      "[en] instructions\n",
      "\n",
      "## Futher information and explanations are available online:\n",
      "\n",
      "\n",
      "========================================\n",
      "Token count: 134\n",
      "Start index: 427\n",
      "End index: 645\n",
      "Chunk text: \n",
      "![Image](manual_bosch_WGG254Z0GR-parsed-w-imgs_artifacts/image_000002_71ba2e278ecb31d5477d5b97185c8f2215227116e1615b161b0883eeea87bb26.png)\n",
      "\n",
      "## Table of contents\n",
      "\n",
      "| 1 Safety........................................... \n",
      "\n",
      "========================================\n",
      "Token count: 1953\n",
      "Start index: 645\n",
      "End index: 7375\n",
      "Chunk text:                      | 1 Safety...........................................                        | 4                           |\n",
      "|--------------------------------------------------------------------------|----------------------------------------------------------------------------|-----------------------------|\n",
      "| 1.1                                                                      | General information...................                                     | 4                           |\n",
      "| 1.2                                                                      | Intended use..............................                                 | 4                           |\n",
      "| 1.3                                                                      | Restriction on user group..........                                        | 4                           |\n",
      "| 1.4                                                                      | Safe installation                                                          | ......................... 5 |\n",
      "| 1.5                                                                      | Safe use ....................................                              | 7                           |\n",
      "| 1.6                                                                      | Safe cleaning and mainten- ance........................................... | 9                           |\n",
      "| 2 Preventing material damage ....                                        | 2 Preventing material damage ....                                          | 10                          |\n",
      "| 3 Environmental protection and saving energy............................ | 3 Environmental protection and saving energy............................   | 11                          |\n",
      "| 3.1                                                                      | Disposing of packaging ..........                                          | 11                          |\n",
      "| 3.2                                                                      | Save energy and conserve resources.................................        | 11                          |\n",
      "| 3.3                                                                      | Energy saving mode ...............                                         | 11                          |\n",
      "| 4 Installation and connection......                                      | 4 Installation and connection......                                        | 12                          |\n",
      "| 4.1                                                                      | Unpacking the appliance ........                                           | 12                          |\n",
      "| 4.2                                                                      | Contents of package...............                                         | 12                          |\n",
      "| 4.3                                                                      | Requirements for the install- ation location...........................    | 12                          |\n",
      "| 4.4                                                                      | Removing the transit bolts ......                                          | 13                          |\n",
      "| 4.5                                                                      | Connecting the appliance .......                                           | 14                          |\n",
      "| 4.6                                                                      | Aligning the appliance.............                                        | 16                          |\n",
      "| 5 Familiarising yourself with your appliance...........................  | 5 Familiarising yourself with your appliance...........................    | 17                          |\n",
      "| 5.1                                                                      | Appliance ................................                                 | 17                          |\n",
      "| 5.2                                                                      | Detergent drawer.....................                                      | 17                          |\n",
      "| 5.3                                                                      | Control panel...........................                                   | 18                          |\n",
      "| 6 Before using for the first time ..                                     | 6 Before using for the first time ..                                       | 19                          |\n",
      "| 6.1                                                                      | Starting an empty washing cycle ........................................   | 19                          |\n",
      "| 7                                                                        | Display.......................................                             | 20                          |\n",
      "\n",
      "| 8 Buttons ......................................                            | 8 Buttons ......................................                            |   23 |\n",
      "|-----------------------------------------------------------------------------|-----------------------------------------------------------------------------|------|\n",
      "| 9 Programmes..............................                                  | 9 Programmes..............................                                  |   25 |\n",
      "| 10 Accessories.............................                                 | 10 Accessories.............................                                 |   29 |\n",
      "| 11 Laundry....................................                              | 11 Laundry....................................                              |   29 |\n",
      "| 11.1 Preparing the laundry............                                      | 11.1 Preparing the laundry............                                      |   29 |\n",
      "| 12 Detergents and care products ..................................          | 12 Detergents and care products ..................................          |   30 |\n",
      "| 13 Basic operation.......................                                   | 13 Basic operation.......................                                   |   30 |\n",
      "| 13.1 Switching on the appliance...                                          | 13.1 Switching on the appliance...                                          |   30 |\n",
      "| 13.2 Setting a programme ............                                       | 13.2 Setting a programme ............                                       |   30 |\n",
      "| 13.3 Adjusting the programme settings ..................................    | 13.3 Adjusting the programme settings ..................................    |   30 |\n",
      "\n",
      "\n",
      "========================================\n",
      "Token count: 1505\n",
      "Start index: 7375\n",
      "End index: 11204\n",
      "Chunk text: | 13.4 Loading laundry.....................                                   | 13.4 Loading laundry.....................                                   |   30 |\n",
      "| 13.5 Inserting the measuring aid for liquid detergent................       | 13.5 Inserting the measuring aid for liquid detergent................       |   30 |\n",
      "| 13.6 Use the measuring aid for liquid detergent .....................       | 13.6 Use the measuring aid for liquid detergent .....................       |   31 |\n",
      "| 13.7 Adding detergent and care product ..................................   | 13.7 Adding detergent and care product ..................................   |   31 |\n",
      "| 13.8 Starting the programme........                                         | 13.8 Starting the programme........                                         |   32 |\n",
      "| 13.9 Adding laundry ......................                                  | 13.9 Adding laundry ......................                                  |   32 |\n",
      "| 13.10 Cancelling the pro- gramme...............................             | 13.10 Cancelling the pro- gramme...............................             |   32 |\n",
      "| 13.11 Unloading the laundry .........                                       | 13.11 Unloading the laundry .........                                       |   32 |\n",
      "| 13.12 Switching off the appli- ance.....................................    | 13.12 Switching off the appli- ance.....................................    |   32 |\n",
      "| 14 Childproof lock........................                                  | 14 Childproof lock........................                                  |   33 |\n",
      "| 14.1 Activating the childproof lock........................................ | 14.1 Activating the childproof lock........................................ |   33 |\n",
      "| 14.2                                                                        | Deactivating the childproof lock........................................    |   33 |\n",
      "\n",
      "| 15 Basic settings..........................                                  |   34 |\n",
      "|------------------------------------------------------------------------------|------|\n",
      "| 15.1 Overview of the basic set- tings....................................... |   34 |\n",
      "| 15.2 Changing the basic set- tings.......................................    |   35 |\n",
      "| 16 Programme counter................                                         |   35 |\n",
      "| 16.1 Calling up the programme counter ..................................     |   35 |\n",
      "| 17 Cleaning and servicing...........                                         |   35 |\n",
      "| 17.1 Cleaning the drum.................                                      |   35 |\n",
      "| 17.2 Cleaning the detergent drawer....................................       |   35 |\n",
      "| 17.3 Cleaning the drain pump.......                                          |   36 |\n",
      "| 18 Troubleshooting......................                                     |   40 |\n",
      "| 18.1 Emergency release ...............                                       |   49 |\n",
      "| 19 Transportation, storage and disposal ...................................  |   49 |\n",
      "| 19.1 Removing the appliance .......                                          |   49 |\n",
      "| 19.2 Inserting the transit bolts.......                                      |   49 |\n",
      "| 19.3 Using the appliance again ....                                          |   49 |\n",
      "| 19.4 Disposing of old appliance ...                                          |   50 |\n",
      "| 20 Customer Service....................                                      |   50 |\n",
      "| 20.1 Product number (E-Nr.) and production number (FD)........               |   50 |\n",
      "| 21 Consumption values...............                                         |   51 |\n",
      "| 22 Technical data.........................                                   |   51 |\n",
      "\n",
      "\n",
      "========================================\n",
      "Token count: 91\n",
      "Start index: 11204\n",
      "End index: 11402\n",
      "Chunk text: \n",
      "![Image](manual_bosch_WGG254Z0GR-parsed-w-imgs_artifacts/image_000003_43c217227dc376eaa05bebc2bc182a5ada70f7ce71ab35b01a9a83735585f1c0.png)\n",
      "\n",
      "## 1 Safety\n",
      "\n",
      "Observe the following safety instructions.\n",
      "\n"
     ]
    }
   ],
   "source": [
    "for chunk in chunks[:5]:\n",
    "    print(f\"\\n\" + \"=\" * 40)\n",
    "    print(f\"Token count: {chunk.token_count}\")\n",
    "    print(f\"Start index: {chunk.start_index}\")\n",
    "    print(f\"End index: {chunk.end_index}\")\n",
    "    print(f\"Chunk text: {chunk.text}\")"
   ]
  },
  {
   "cell_type": "markdown",
   "id": "910be6a4",
   "metadata": {},
   "source": [
    "How many chunks did we end up with?"
   ]
  },
  {
   "cell_type": "code",
   "execution_count": 15,
   "id": "0adcf69e",
   "metadata": {},
   "outputs": [
    {
     "data": {
      "text/plain": [
       "89"
      ]
     },
     "execution_count": 15,
     "metadata": {},
     "output_type": "execute_result"
    }
   ],
   "source": [
    "len(chunks)"
   ]
  },
  {
   "cell_type": "markdown",
   "id": "de098731",
   "metadata": {},
   "source": [
    "89 chunks for a 56 page manual sounds pretty reasonable."
   ]
  },
  {
   "cell_type": "code",
   "execution_count": null,
   "id": "4237a12d",
   "metadata": {},
   "outputs": [],
   "source": []
  }
 ],
 "metadata": {
  "kernelspec": {
   "display_name": "workshop-pdf-rag",
   "language": "python",
   "name": "python3"
  },
  "language_info": {
   "codemirror_mode": {
    "name": "ipython",
    "version": 3
   },
   "file_extension": ".py",
   "mimetype": "text/x-python",
   "name": "python",
   "nbconvert_exporter": "python",
   "pygments_lexer": "ipython3",
   "version": "3.10.16"
  }
 },
 "nbformat": 4,
 "nbformat_minor": 5
}
