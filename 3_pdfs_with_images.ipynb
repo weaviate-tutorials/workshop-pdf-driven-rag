{
 "cells": [
  {
   "cell_type": "markdown",
   "id": "7c4a081d",
   "metadata": {},
   "source": [
    "## Working with PDFs with images"
   ]
  },
  {
   "cell_type": "markdown",
   "id": "953ce690",
   "metadata": {},
   "source": [
    "PDFs contain rich formatting - here's an example:\n",
    "\n",
    "<img src=\"data/imgs/manual_bosch_WGG254Z0GR_38_of_56.png\" width=\"400px\" />"
   ]
  },
  {
   "cell_type": "markdown",
   "id": "68d2d4de",
   "metadata": {},
   "source": [
    "### Approach 1 - Extract text and images separately"
   ]
  },
  {
   "cell_type": "markdown",
   "id": "50c0287c",
   "metadata": {},
   "source": [
    "Some libraries (like `docling`) can extract text and images from PDFs, and convert them into Markdown files."
   ]
  },
  {
   "cell_type": "code",
   "execution_count": 1,
   "id": "e3ea399d",
   "metadata": {},
   "outputs": [],
   "source": [
    "from pathlib import Path\n",
    "\n",
    "data_folder = Path(\"data/pdfs\")\n",
    "output_dir = Path(\"data/parsed\")\n",
    "output_dir.mkdir(parents=True, exist_ok=True)"
   ]
  },
  {
   "cell_type": "code",
   "execution_count": 2,
   "id": "23684011",
   "metadata": {},
   "outputs": [
    {
     "name": "stdout",
     "output_type": "stream",
     "text": [
      "Processing file: howto-free-threading-python.pdf\n",
      "Converting document data/pdfs/howto-free-threading-python.pdf to multimodal pages...\n",
      "Processing file: manual_bosch_WGG254Z0GR.pdf\n",
      "Converting document data/pdfs/manual_bosch_WGG254Z0GR.pdf to multimodal pages...\n"
     ]
    },
    {
     "name": "stderr",
     "output_type": "stream",
     "text": [
      "/Users/jphwang/code/demo-code/workshop-pdf-rag/.venv/lib/python3.10/site-packages/torch/utils/data/dataloader.py:683: UserWarning: 'pin_memory' argument is set as true but not supported on MPS now, then device pinned memory won't be used.\n",
      "  warnings.warn(warn_msg)\n",
      "/Users/jphwang/code/demo-code/workshop-pdf-rag/.venv/lib/python3.10/site-packages/torch/utils/data/dataloader.py:683: UserWarning: 'pin_memory' argument is set as true but not supported on MPS now, then device pinned memory won't be used.\n",
      "  warnings.warn(warn_msg)\n"
     ]
    }
   ],
   "source": [
    "from docling.datamodel.base_models import InputFormat\n",
    "from docling.datamodel.pipeline_options import PdfPipelineOptions\n",
    "from docling.document_converter import DocumentConverter, PdfFormatOption\n",
    "from docling_core.types.doc import ImageRefMode\n",
    "\n",
    "IMAGE_RESOLUTION_SCALE = 2.0\n",
    "\n",
    "\n",
    "def parse_pdf_with_images(input_doc_path: Path, output_dir: Path):\n",
    "    # Reference: https://docling-project.github.io/docling/examples/export_figures/\n",
    "    md_filename = output_dir / f\"{input_doc_path.name.split('.')[0]}-parsed-w-imgs.md\"\n",
    "    if md_filename.exists():\n",
    "        print(f\"Skipping {md_filename} as it already exists.\")\n",
    "        return\n",
    "\n",
    "    pipeline_options = PdfPipelineOptions()\n",
    "    pipeline_options.images_scale = IMAGE_RESOLUTION_SCALE\n",
    "    pipeline_options.generate_picture_images = True\n",
    "\n",
    "    doc_converter = DocumentConverter(\n",
    "        format_options={\n",
    "            InputFormat.PDF: PdfFormatOption(pipeline_options=pipeline_options)\n",
    "        }\n",
    "    )\n",
    "\n",
    "    conv_res = doc_converter.convert(input_doc_path)\n",
    "\n",
    "    # Save markdown with embedded pictures\n",
    "    conv_res.document.save_as_markdown(md_filename, image_mode=ImageRefMode.REFERENCED)\n",
    "\n",
    "\n",
    "pdf_names = [f.name for f in data_folder.glob(\"*.pdf\") if f.is_file()]\n",
    "\n",
    "for pdf_fname in pdf_names:\n",
    "    print(f\"Processing file: {pdf_fname}\")\n",
    "\n",
    "    input_doc_path = data_folder / pdf_fname\n",
    "\n",
    "    print(f\"Converting document {input_doc_path} to multimodal pages...\")\n",
    "    parse_pdf_with_images(input_doc_path, output_dir)\n"
   ]
  },
  {
   "cell_type": "code",
   "execution_count": 3,
   "id": "22e8a60c",
   "metadata": {},
   "outputs": [
    {
     "name": "stdout",
     "output_type": "stream",
     "text": [
      "![Image](manual_bosch_WGG254Z0GR-parsed-w-imgs_artifacts/image_000000_5c54d11a8c20ca25ddd9d2f56c9f9680ede4e06e7883ce26742dd8b92f37e50b.png)\n",
      "\n",
      "![Image](manual_bosch_WGG254Z0GR-parsed-w-imgs_artifacts/image_000001_b4602c47a93b10cce1805fd72fa0b8d8885610e99dc4769a522107f918300343.png)\n",
      "\n",
      "## Washing machine\n",
      "\n",
      "## WGG254Z0GR\n",
      "\n",
      "User manual and installation\n",
      "\n",
      "[en] instructions\n",
      "\n",
      "## Futher information and explanations are available online:\n",
      "\n",
      "![Image](manual_bosch_WGG254Z0GR-parsed-w-imgs_artifacts/image_000002_71ba2e278ecb31d5477d5b97185c8f2215227116e1615b161b0883eeea87bb26.png)\n",
      "\n",
      "## Table of contents\n",
      "\n",
      "| 1 Safety...........................................                      | 1 Safety...........................................                        | 4                           |\n",
      "|--------------------------------------------------------------------------|----------------------------------------------------------------------------|-----------------------------|\n",
      "| 1.1                                    \n"
     ]
    }
   ],
   "source": [
    "md_filepath = Path(\"data/parsed/manual_bosch_WGG254Z0GR-parsed-w-imgs.md\")\n",
    "md_txt = md_filepath.read_text()\n",
    "print(md_txt[:1000])"
   ]
  },
  {
   "cell_type": "markdown",
   "id": "6f0297db",
   "metadata": {},
   "source": [
    "#### Chunking text files with images"
   ]
  },
  {
   "cell_type": "markdown",
   "id": "a4ee9281",
   "metadata": {},
   "source": [
    "More complex than just text, since we need to handle images as well.\n",
    "\n",
    "- Must include entire image string in the chunk\n",
    "- When vectorizing, must replace image references with base64 of actual images\n",
    "\n",
    "One method: try a specialized library like `chonkie` to handle this"
   ]
  },
  {
   "cell_type": "markdown",
   "id": "bd48bb25",
   "metadata": {},
   "source": [
    "Chonkie offers a variety of chunking strategies:\n",
    "\n",
    "<img src=\"assets/chonkie_methods.png\" />"
   ]
  },
  {
   "cell_type": "markdown",
   "id": "7aeea62c",
   "metadata": {},
   "source": [
    "There isn't going to be a \"one size fits all\" solution for chunking PDFs with images. But these libraries can help you get started."
   ]
  },
  {
   "cell_type": "markdown",
   "id": "9daef5ae",
   "metadata": {},
   "source": [
    "Let's try a couple of different approaches:"
   ]
  },
  {
   "cell_type": "code",
   "execution_count": 4,
   "id": "7adb5c64",
   "metadata": {},
   "outputs": [],
   "source": [
    "from chonkie import RecursiveChunker\n",
    "\n",
    "# Initialize the recursive chunker to chunk Markdown\n",
    "chunker = RecursiveChunker.from_recipe(\"markdown\", lang=\"en\")"
   ]
  },
  {
   "cell_type": "code",
   "execution_count": 5,
   "id": "7d61fca6",
   "metadata": {},
   "outputs": [],
   "source": [
    "chunk_texts = chunker.chunk(md_txt)"
   ]
  },
  {
   "cell_type": "code",
   "execution_count": 6,
   "id": "4d8d48b6",
   "metadata": {},
   "outputs": [
    {
     "name": "stdout",
     "output_type": "stream",
     "text": [
      "\n",
      "========================================\n",
      "Token count: 569\n",
      "Start index: 0\n",
      "End index: 569\n",
      "Chunk text:\n",
      "    ![Image](manual_bosch_WGG254Z0GR-parsed-w-imgs_artifacts/image_000000_5c54d11a8c\n",
      "    20ca25ddd9d2f56c9f9680ede4e06e7883ce26742dd8b92f37e50b.png)\n",
      "    ![Image](manual_bosch_WGG254Z0GR-parsed-w-imgs_artifacts/image_000001_b4602c47a9\n",
      "    3b10cce1805fd72fa0b8d8885610e99dc4769a522107f918300343.png)  ## Washing machine\n",
      "    ## WGG254Z0GR  User manual and installation  [en] instructions  ## Futher\n",
      "    information and explanations are available online:\n",
      "    ![Image](manual_bosch_WGG254Z0GR-parsed-w-imgs_artifacts/image_000002_71...\n",
      "\n",
      "========================================\n",
      "Token count: 2046\n",
      "Start index: 569\n",
      "End index: 2615\n",
      "Chunk text:\n",
      "    ## Table of contents  | 1 Safety...........................................\n",
      "    | 1 Safety...........................................                        | 4\n",
      "    | |--------------------------------------------------------------------------|--\n",
      "    --------------------------------------------------------------------------|-----\n",
      "    ------------------------| | 1.1\n",
      "    | General information.................\n",
      "\n",
      "========================================\n",
      "Token count: 2024\n",
      "Start index: 2615\n",
      "End index: 4639\n",
      "Chunk text:\n",
      "    | 3.2                                                                      |\n",
      "    Save energy and conserve resources.................................        | 11\n",
      "    | | 3.3                                                                      |\n",
      "    Energy saving mode ...............                                         | 11\n",
      "    | | 4 Installation and connection......                                      | 4\n",
      "    Installation and connection......                    ...\n",
      "\n",
      "========================================\n",
      "Token count: 921\n",
      "Start index: 4639\n",
      "End index: 5560\n",
      "Chunk text:\n",
      "    | 5.2                                                                      |\n",
      "    Detergent drawer.....................                                      | 17\n",
      "    | | 5.3                                                                      |\n",
      "    Control panel...........................                                   | 18\n",
      "    | | 6 Before using for the first time ..                                     | 6\n",
      "    Before using for the first time ..                   ...\n",
      "\n",
      "========================================\n",
      "Token count: 1980\n",
      "Start index: 5560\n",
      "End index: 7540\n",
      "Chunk text:\n",
      "    | 8 Buttons ......................................                            |\n",
      "    8 Buttons ......................................                            |\n",
      "    23 | |--------------------------------------------------------------------------\n",
      "    ---|----------------------------------------------------------------------------\n",
      "    -|------| | 9 Programmes..............................\n",
      "    | 9 Programmes..............................                                  |\n",
      "    25 | | 10 ...\n"
     ]
    }
   ],
   "source": [
    "import textwrap\n",
    "\n",
    "for chunk in chunk_texts[:5]:\n",
    "    print(f\"\\n\" + \"=\" * 40)\n",
    "    print(f\"Token count: {chunk.token_count}\")\n",
    "    print(f\"Start index: {chunk.start_index}\")\n",
    "    print(f\"End index: {chunk.end_index}\")\n",
    "    print(f\"Chunk text:\")\n",
    "    wrapped_text = textwrap.fill(chunk.text[:500]+\"...\", width=80)\n",
    "    print(textwrap.indent(wrapped_text, \"    \"))"
   ]
  },
  {
   "cell_type": "markdown",
   "id": "991dde5e",
   "metadata": {},
   "source": [
    "Let's try a \"semantic\" chunker:"
   ]
  },
  {
   "cell_type": "code",
   "execution_count": 7,
   "id": "bc60d639",
   "metadata": {},
   "outputs": [],
   "source": [
    "from chonkie import SemanticChunker\n",
    "\n",
    "# Basic initialization with default parameters\n",
    "chunker = SemanticChunker(\n",
    "    embedding_model=\"minishlab/potion-base-8M\",  # Default model\n",
    "    threshold=0.5,                               # Similarity threshold (0-1) or (1-100) or \"auto\"\n",
    "    chunk_size=2048,                              # Maximum tokens per chunk\n",
    "    min_sentences=1                              # Initial sentences per chunk\n",
    ")"
   ]
  },
  {
   "cell_type": "code",
   "execution_count": 8,
   "id": "29aed757",
   "metadata": {},
   "outputs": [],
   "source": [
    "chunk_texts = chunker.chunk(md_txt)"
   ]
  },
  {
   "cell_type": "code",
   "execution_count": 9,
   "id": "e7042aec",
   "metadata": {},
   "outputs": [
    {
     "name": "stdout",
     "output_type": "stream",
     "text": [
      "\n",
      "========================================\n",
      "Token count: 203\n",
      "Start index: 0\n",
      "End index: 427\n",
      "Chunk text:\n",
      "    ![Image](manual_bosch_WGG254Z0GR-parsed-w-imgs_artifacts/image_000000_5c54d11a8c\n",
      "    20ca25ddd9d2f56c9f9680ede4e06e7883ce26742dd8b92f37e50b.png)\n",
      "    ![Image](manual_bosch_WGG254Z0GR-parsed-w-imgs_artifacts/image_000001_b4602c47a9\n",
      "    3b10cce1805fd72fa0b8d8885610e99dc4769a522107f918300343.png)  ## Washing machine\n",
      "    ## WGG254Z0GR  User manual and installation  [en] instructions  ## Futher\n",
      "    information and explanations are available online: ...\n",
      "\n",
      "========================================\n",
      "Token count: 134\n",
      "Start index: 427\n",
      "End index: 645\n",
      "Chunk text:\n",
      "     ![Image](manual_bosch_WGG254Z0GR-parsed-w-imgs_artifacts/image_000002_71ba2e278\n",
      "    ecb31d5477d5b97185c8f2215227116e1615b161b0883eeea87bb26.png)  ## Table of\n",
      "    contents  | 1 Safety........................................... ...\n",
      "\n",
      "========================================\n",
      "Token count: 1953\n",
      "Start index: 645\n",
      "End index: 7375\n",
      "Chunk text:\n",
      "                         | 1 Safety...........................................\n",
      "    | 4                           | |-----------------------------------------------\n",
      "    ---------------------------|----------------------------------------------------\n",
      "    ------------------------|-----------------------------| | 1.1\n",
      "    | General information...................                                     | 4\n",
      "    | | ...\n",
      "\n",
      "========================================\n",
      "Token count: 1505\n",
      "Start index: 7375\n",
      "End index: 11204\n",
      "Chunk text:\n",
      "    | 13.4 Loading laundry.....................                                   |\n",
      "    13.4 Loading laundry.....................                                   |\n",
      "    30 | | 13.5 Inserting the measuring aid for liquid detergent................\n",
      "    | 13.5 Inserting the measuring aid for liquid detergent................       |\n",
      "    30 | | 13.6 Use the measuring aid for liquid detergent .....................\n",
      "    | 13.6 Use the measuring aid for liquid detergent .....................       |\n",
      "    31 | | 13....\n",
      "\n",
      "========================================\n",
      "Token count: 91\n",
      "Start index: 11204\n",
      "End index: 11402\n",
      "Chunk text:\n",
      "     ![Image](manual_bosch_WGG254Z0GR-parsed-w-imgs_artifacts/image_000003_43c217227\n",
      "    dc376eaa05bebc2bc182a5ada70f7ce71ab35b01a9a83735585f1c0.png)  ## 1 Safety\n",
      "    Observe the following safety instructions. ...\n"
     ]
    }
   ],
   "source": [
    "for chunk in chunk_texts[:5]:\n",
    "    print(f\"\\n\" + \"=\" * 40)\n",
    "    print(f\"Token count: {chunk.token_count}\")\n",
    "    print(f\"Start index: {chunk.start_index}\")\n",
    "    print(f\"End index: {chunk.end_index}\")\n",
    "    print(f\"Chunk text:\")\n",
    "    wrapped_text = textwrap.fill(chunk.text[:500]+\"...\", width=80)\n",
    "    print(textwrap.indent(wrapped_text, \"    \"))"
   ]
  },
  {
   "cell_type": "markdown",
   "id": "92a2a8a4",
   "metadata": {},
   "source": [
    "### Set up Weaviate Collection"
   ]
  },
  {
   "cell_type": "code",
   "execution_count": 10,
   "id": "22933c0f",
   "metadata": {},
   "outputs": [
    {
     "name": "stderr",
     "output_type": "stream",
     "text": [
      "huggingface/tokenizers: The current process just got forked, after parallelism has already been used. Disabling parallelism to avoid deadlocks...\n",
      "To disable this warning, you can either:\n",
      "\t- Avoid using `tokenizers` before the fork if possible\n",
      "\t- Explicitly set the environment variable TOKENIZERS_PARALLELISM=(true | false)\n"
     ]
    }
   ],
   "source": [
    "import weaviate\n",
    "import os\n",
    "\n",
    "client = weaviate.connect_to_embedded(\n",
    "    version=\"1.32.0\",\n",
    "    headers={\n",
    "        \"X-Cohere-Api-Key\": os.getenv(\"COHERE_API_KEY\"),\n",
    "    },\n",
    "    environment_variables={\"LOG_LEVEL\": \"error\"}  # Reduce amount of logs\n",
    ")"
   ]
  },
  {
   "cell_type": "code",
   "execution_count": 14,
   "id": "842550b9",
   "metadata": {},
   "outputs": [],
   "source": [
    "client.collections.delete(\"Chunks\")"
   ]
  },
  {
   "cell_type": "code",
   "execution_count": 15,
   "id": "4e202bae",
   "metadata": {},
   "outputs": [
    {
     "data": {
      "text/plain": [
       "<weaviate.collections.collection.sync.Collection at 0x4008b3a90>"
      ]
     },
     "execution_count": 15,
     "metadata": {},
     "output_type": "execute_result"
    }
   ],
   "source": [
    "from weaviate.classes.config import Property, DataType, Configure, Tokenization\n",
    "\n",
    "client.collections.create(\n",
    "    name=\"Chunks\",\n",
    "    properties=[\n",
    "        Property(\n",
    "            name=\"document_title\",\n",
    "            data_type=DataType.TEXT,\n",
    "        ),\n",
    "        Property(\n",
    "            name=\"chunk\",\n",
    "            data_type=DataType.TEXT,\n",
    "        ),\n",
    "        Property(\n",
    "            name=\"chunk_number\",\n",
    "            data_type=DataType.INT,\n",
    "        ),\n",
    "        Property(\n",
    "            name=\"filename\",\n",
    "            data_type=DataType.TEXT,\n",
    "            tokenization=Tokenization.FIELD\n",
    "        ),\n",
    "    ],\n",
    "    vector_config=[\n",
    "        Configure.Vectors.text2vec_cohere(\n",
    "            name=\"default\",\n",
    "            source_properties=[\"document_title\", \"chunk\"],\n",
    "            model=\"embed-v4.0\"\n",
    "        )\n",
    "    ]\n",
    ")"
   ]
  },
  {
   "cell_type": "code",
   "execution_count": 16,
   "id": "7c9e2f9f",
   "metadata": {},
   "outputs": [],
   "source": [
    "chunks = client.collections.get(\"Chunks\")"
   ]
  },
  {
   "cell_type": "markdown",
   "id": "f34f3bad",
   "metadata": {},
   "source": [
    "### Import data"
   ]
  },
  {
   "cell_type": "code",
   "execution_count": 17,
   "id": "dee53991",
   "metadata": {},
   "outputs": [
    {
     "name": "stderr",
     "output_type": "stream",
     "text": [
      "170it [00:00, 26827.89it/s]\n"
     ]
    }
   ],
   "source": [
    "from tqdm import tqdm\n",
    "from weaviate.util import generate_uuid5\n",
    "\n",
    "with chunks.batch.fixed_size(batch_size=100) as batch:\n",
    "    for i, chunk_text in tqdm(enumerate(chunk_texts)):\n",
    "        obj = {\n",
    "            \"document_title\": \"Bosch WGG254Z0GR Manual\",\n",
    "            \"filename\": \"data/pdfs/manual_bosch_WGG254Z0GR.pdf\",\n",
    "            \"chunk\": chunk_text.text,\n",
    "            \"chunk_number\": i + 1,\n",
    "        }\n",
    "\n",
    "        # Add object to batch for import\n",
    "        batch.add_object(\n",
    "            properties=obj,\n",
    "            uuid=generate_uuid5(obj),\n",
    "        )"
   ]
  },
  {
   "cell_type": "markdown",
   "id": "f0ed8bc9",
   "metadata": {},
   "source": [
    "### RAG queries\n",
    "\n",
    "How to perform RAG in this scenario?"
   ]
  },
  {
   "cell_type": "markdown",
   "id": "cd3e0fed",
   "metadata": {},
   "source": [
    "- Retrieve text chunks\n",
    "- Get images referred to in the text\n",
    "- Convert the images to base64\n",
    "- Send (retrieved text + images + prompt) to LLM for RAG"
   ]
  },
  {
   "cell_type": "code",
   "execution_count": 22,
   "id": "cae8dd66",
   "metadata": {},
   "outputs": [
    {
     "name": "stdout",
     "output_type": "stream",
     "text": [
      "\n",
      "========================================\n",
      "\n",
      "![Image](manual_bosch_WGG254Z0GR-parsed-w-imgs_artifacts/image_000058_04dccced21c2179765f4eb775befd46cac74f808901d8ae529124f232faa6274.png)\n",
      "\n",
      "![Image](manual_bosch_WGG254Z0GR-parsed-w-imgs_artifacts/image_000059_dd70b8adb294a82cbf04f72acae0f75d553d2b0f0aea2989a28c95d1114ed57c.png)\n",
      "\n",
      "![Image](manual_bosch_WGG254Z0GR-parsed-w-imgs_artifacts/image_000060_b0bd539957118736f36bb5b1cc063528eab6ea593cbe7b74a39885deabb28ff6.png)\n",
      "\n",
      "![Image](manual_bosch_WGG254Z0GR-parsed-w-imgs_artifacts/image_000061_c7bf0b232a5a96f943c0537143799264c3245cda435c48450457ef67e1389a97.png)\n",
      "\n",
      "## 17.3 Cleaning the drain pump\n",
      "\n",
      "Clean the drain pump regularly, at least once a year, as well as in the event of faults, e.g. ...\n",
      "\n",
      "========================================\n",
      "→ Page 36\n",
      "\n",
      "1. Since water may remain in the drain pump, unscrew the pump cap carefully.\n",
      "2. -The filter insert in the pump housing may become stuck due to coarse particles of dirt. Loosen the dirt and remove the filter insert.\n",
      "2. Clean the interior, the thread on the pump cap and the pump housing.\n",
      "3. Ensure that the impeller in the drain pump can rotate.\n",
      "4. Insert the pump cap.\n",
      "6. -Ensure that the parts of the pump cap are correctly assembled.\n",
      "5. Screw the pump cap as far as it will go.\n",
      "6. Insert and close the service flap.\n",
      "...\n",
      "\n",
      "========================================\n",
      "\n",
      "![Image](manual_bosch_WGG254Z0GR-parsed-w-imgs_artifacts/image_000063_a8e76238acf5760299c4db3ab393cfb0dc206501870092cea93f5ec4ffd1d91d.png)\n",
      "\n",
      "![Image](manual_bosch_WGG254Z0GR-parsed-w-imgs_artifacts/image_000064_80fa3eb55ebd5b939bb3de282c0eb7aceecd71fae8258f995eaa187c0440fca1.png)\n",
      "\n",
      "![Image](manual_bosch_WGG254Z0GR-parsed-w-imgs_artifacts/image_000065_12940a53eb232f4915ee5a982e7dcb0abcb1dacd8217212e8bc9e82d09c9eab9.png)\n",
      "\n",
      "![Image](manual_bosch_WGG254Z0GR-parsed-w-imgs_artifacts/image_000066_f45130e273ace124c0dfe1eb2cf24df44b409f1e5ed476a08f7258707d6eeccb.png)\n",
      "\n",
      "![Image](manual_bosch_WGG254Z0GR-parsed-w-imgs_artifacts/image_000067_0285ef2b0b7b3bd1c2ec2bb73750a2bac5a3d659f638a9c0726055a900c73a6a.png)\n",
      "\n",
      "## Cleaning the drain pump\n",
      "\n",
      "Requirement: The drain pump is empty. ...\n",
      "\n",
      "========================================\n",
      "\n",
      "![Image](manual_bosch_WGG254Z0GR-parsed-w-imgs_artifacts/image_000068_40b6b8903527dd9a25ebe4c15c2b5cffbb776d2b6996e25d56dcb7c1014e2f36.png)\n",
      "\n",
      "The pump cap is comprised of two parts which can be taken apart for cleaning.\n",
      "\n",
      "![Image](manual_bosch_WGG254Z0GR-parsed-w-imgs_artifacts/image_000069_f684bedd90de8cd92eec42ab813ba69eb13c75878c667eb290123f3969dd5d9c.png)\n",
      "\n",
      "![Image](manual_bosch_WGG254Z0GR-parsed-w-imgs_artifacts/image_000070_649eeae2cd52ac24fb0cc1dc29bac902184a62a16726cef6bf7fc4eb29489e51.png)\n",
      "\n",
      "The handle on the pump cap must be in a vertical position.\n",
      "\n",
      "![Image](manual_bosch_WGG254Z0GR-parsed-w-imgs_artifacts/image_000071_ec8454f955f0289fedeabd865018e6d973abd3ac2dfebc7bdb69d5600763e05c.png)\n",
      "\n",
      "![Image](manual_bosch_WGG254Z0GR-parsed-w-imgs_artifacts/image_000072_65a835a21e81d86c021da495d1d074d0a09813c499b60d832ed194f69945a8bb.png)\n",
      "\n",
      "## Before the next wash\n",
      "\n",
      "To prevent unused detergent from flowing straight into the outlet in the next wash, run a suitable programme for draining after yo...\n",
      "\n",
      "========================================\n",
      "\n",
      "![Image](manual_bosch_WGG254Z0GR-parsed-w-imgs_artifacts/image_000042_dce84c53dd0b619569807b2c19ad7ef8e74eca919dd24efcd08c92bb622ad685.png)\n",
      "\n",
      "On certain models, specific details such as the colour and shape may differ from those pictured.\n",
      "\n",
      "- 2 Maintenance flap for the drain pump → Page 36\n",
      "...\n",
      "\n",
      "========================================\n",
      "blockages or rattling noises.\n",
      "\n",
      "## Emptying the drain pump\n",
      "\n",
      "1. Turn off the tap.\n",
      "2. Switch off the appliance. → \"Switching off the appliance\", Page 32\n",
      "3. Disconnect the appliance's mains plug from the power supply.\n",
      "4. Open and remove the service flap.\n",
      "...\n",
      "\n",
      "========================================\n",
      "| \"E:30 / -80\"                                              | Drain pipe or water outlet hose is blocked. ▶ Clean the drain pipe and the water outlet hose.                                                                             |\n",
      "| \"E:30 / -80\"                                              | Drain pipe or water drain hose is caught or jammed. ▶ Ensure that the drain pipe and water drain hose are not kinked or trapped.                                          |\n",
      "| \"E:30 / -80\"                                              | The water outlet hose is connected too high. ▶ Install the water outlet hose at a maximum height of 1 metre.                                                              |\n",
      "| \"E:30 / -80\"                                              | Unapproved extension installed on the water drain hose. ▶ Remove any unapproved extensions from the water hose. → \"Connecting the appliance\", Page 14                     |\n",
      "| \"E:30 / -80\"                                              | Dr...\n",
      "\n",
      "========================================\n",
      "                      | Water is flushed under pressure into the detergent drawer. ▶ Not a fault - normal operating noise.                                                         |\n",
      "| Loud noises during the spin cycle.            | Appliance is not correctly aligned. ▶ → \"Aligning the appliance\", Page 16                                                                                  |\n",
      "| Loud noises during the spin cycle.            | The appliance feet are not fixed. ▶ Secure the appliance feet. → \"Aligning the appliance\", Page 16                                                         |\n",
      "| Loud noises during the spin cycle.            | Transit bolts have not been removed. ▶ → \"Removing the transit bolts\", Page 13 .                                                                           |\n",
      "| Banging noises, rat- tling in the drain pump. | Foreign bodies have got into the drain pump. ▶ → \"Cleaning the drain pump\", Page 36                                                                 ...\n",
      "\n",
      "========================================\n",
      "▶ Close the door.                                                                                                                                                                                                                                                                                        |\n",
      "| The programme does not start. | Childproof lock is activated. ▶ Deactivate childproof lock. → \"Deactivating the childproof lock\", Page 33                                                                                                                                                                                                                    |\n",
      "| The programme does not start. | Λήξη σε is activated. ▶ Check whether Λήξη σε is activated. → \"Buttons\", Page 23                                                                                                                                                                                                                                          ...\n",
      "\n",
      "========================================\n",
      "|-----------------------------------------------|------------------------------------------------------------------------------------------------------------------------------------------------------------|\n",
      "| The spin programme does not start.            | Drain pipe or water outlet hose is blocked. ▶ Clean the drain pipe and the water outlet hose.                                                              |\n",
      "| The spin programme does not start.            | Drain pipe or water drain hose is caught or jammed. ▶ Ensure that the drain pipe and water drain hose are not kinked or trapped.                           |\n",
      "| The spin programme does not start. ...\n"
     ]
    }
   ],
   "source": [
    "response = chunks.query.hybrid(\n",
    "    query=\"How to clean the drain pump\",\n",
    "    limit=10\n",
    ")\n",
    "\n",
    "for o in response.objects:\n",
    "    print(f\"\\n\" + \"=\" * 40)\n",
    "    print(o.properties[\"chunk\"][:1000] + \"...\")"
   ]
  },
  {
   "cell_type": "code",
   "execution_count": 27,
   "id": "5a729583",
   "metadata": {},
   "outputs": [],
   "source": [
    "import re\n",
    "\n",
    "def extract_image_paths(text):\n",
    "    \"\"\"Extract image paths from markdown-style image references.\"\"\"\n",
    "    pattern = r'!\\[.*?\\]\\((.*?)\\)'\n",
    "    return re.findall(pattern, text)"
   ]
  },
  {
   "cell_type": "code",
   "execution_count": 35,
   "id": "9d036efe",
   "metadata": {},
   "outputs": [],
   "source": [
    "def get_image_base64s(image_paths, base_path=None):\n",
    "    import base64\n",
    "    base64_images = []\n",
    "    for img_path in image_paths:\n",
    "        full_path = Path(base_path) / img_path if base_path else Path(img_path)\n",
    "        image_bytes = full_path.read_bytes()\n",
    "        base64_string = base64.b64encode(image_bytes).decode(\"utf-8\")\n",
    "        base64_images.append(base64_string)\n",
    "\n",
    "    return base64_images"
   ]
  },
  {
   "cell_type": "code",
   "execution_count": 41,
   "id": "430397bd",
   "metadata": {},
   "outputs": [],
   "source": [
    "all_chunks = \"\"\n",
    "all_images = []\n",
    "\n",
    "for o in response.objects:\n",
    "    chunk_text = o.properties[\"chunk\"]\n",
    "    image_paths = extract_image_paths(chunk_text)\n",
    "    all_images.extend(get_image_base64s(image_paths, base_path=\"data/parsed\"))\n",
    "\n",
    "    all_chunks += \"\\n\\n\" + chunk_text"
   ]
  },
  {
   "cell_type": "code",
   "execution_count": 60,
   "id": "ba7cb439",
   "metadata": {},
   "outputs": [
    {
     "data": {
      "text/plain": [
       "['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',\n",
       " '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',\n",
       " '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']"
      ]
     },
     "execution_count": 60,
     "metadata": {},
     "output_type": "execute_result"
    }
   ],
   "source": [
    "all_images[:3]"
   ]
  },
  {
   "cell_type": "code",
   "execution_count": 64,
   "id": "d93da885",
   "metadata": {},
   "outputs": [],
   "source": [
    "task_text = \"\"\"\n",
    "How do I clean the drain pump? Answer based on the provided text and images.\n",
    "\n",
    "Describe the details from the figures as well, if necessary.\n",
    "\"\"\" + \"\\n\\n\" + all_chunks\n",
    "\n",
    "message = {\n",
    "    \"role\": \"user\", \"content\": [\n",
    "        {\"type\": \"text\", \"text\": task_text}\n",
    "    ]\n",
    "}\n",
    "\n",
    "for img in all_images:\n",
    "    content = {\n",
    "        \"type\": \"image\",\n",
    "        \"source\": {\n",
    "            \"type\": \"base64\",\n",
    "            \"media_type\": \"image/png\",\n",
    "            \"data\": img,\n",
    "        }\n",
    "    }\n",
    "    message[\"content\"].append(content)"
   ]
  },
  {
   "cell_type": "code",
   "execution_count": 65,
   "id": "a5616f12",
   "metadata": {},
   "outputs": [
    {
     "data": {
      "text/plain": [
       "16"
      ]
     },
     "execution_count": 65,
     "metadata": {},
     "output_type": "execute_result"
    }
   ],
   "source": [
    "len(message[\"content\"])"
   ]
  },
  {
   "cell_type": "code",
   "execution_count": 67,
   "id": "0ee4c148",
   "metadata": {},
   "outputs": [],
   "source": [
    "import anthropic\n",
    "\n",
    "anthropic_response = anthropic.Anthropic().messages.create(\n",
    "    model=\"claude-sonnet-4-20250514\",\n",
    "    max_tokens=1024,\n",
    "    messages=[message]\n",
    ")"
   ]
  },
  {
   "cell_type": "code",
   "execution_count": 72,
   "id": "754f2923",
   "metadata": {},
   "outputs": [
    {
     "name": "stdout",
     "output_type": "stream",
     "text": [
      "Based on the provided text and images, here's how to clean the drain pump:\n",
      "\n",
      "## Prerequisites\n",
      "- Ensure the drain pump is empty first\n",
      "- Turn off the water tap\n",
      "- Switch off the appliance\n",
      "- Disconnect the mains plug from power supply\n",
      "- Open and remove the service flap (maintenance flap for drain pump shown as item 2 in the appliance diagram)\n",
      "\n",
      "## Cleaning Steps\n",
      "\n",
      "**1. Unscrew the pump cap carefully**\n",
      "- Water may remain in the drain pump, so be cautious\n",
      "- The images show the pump cap location and how to access it\n",
      "\n",
      "**2. Remove the filter insert**\n",
      "- The filter insert in the pump housing may become stuck due to coarse particles of dirt\n",
      "- Loosen the dirt and remove the filter insert\n",
      "- The images demonstrate this removal process\n",
      "\n",
      "**3. Clean components thoroughly**\n",
      "- Clean the interior of the pump housing\n",
      "- Clean the thread on the pump cap\n",
      "- Clean the pump housing itself\n",
      "- The images show cleaning with water and proper handling\n",
      "\n",
      "**4. Check the impeller**\n",
      "- Ensure that the impeller in the drain pump can rotate freely\n",
      "\n",
      "**5. Reassemble the pump cap**\n",
      "- The pump cap consists of two parts that can be taken apart for cleaning\n",
      "- Ensure that the parts of the pump cap are correctly assembled\n",
      "- The images show the proper assembly sequence\n",
      "\n",
      "**6. Install and secure**\n",
      "- Insert the pump cap\n",
      "- Screw the pump cap as far as it will go\n",
      "- **Important**: The handle on the pump cap must be in a vertical position (as shown in the images)\n",
      "\n",
      "**7. Close up**\n",
      "- Insert and close the service flap\n",
      "\n",
      "## After Cleaning\n",
      "Run a suitable drainage program after emptying the drain pump to prevent unused detergent from flowing straight into the outlet during the next wash.\n",
      "\n",
      "The images clearly illustrate each step, showing the pump cap removal, cleaning process, proper reassembly, and the correct vertical position of the handle when properly installed.\n"
     ]
    }
   ],
   "source": [
    "print(anthropic_response.content[0].text)"
   ]
  },
  {
   "cell_type": "code",
   "execution_count": 73,
   "id": "54d3533e",
   "metadata": {},
   "outputs": [
    {
     "name": "stderr",
     "output_type": "stream",
     "text": [
      "{\"build_git_commit\":\"7cebee0421\",\"build_go_version\":\"go1.24.5\",\"build_image_tag\":\"HEAD\",\"build_wv_version\":\"1.32.0\",\"error\":\"context canceled\",\"level\":\"error\",\"msg\":\"replication engine failed to start after FSM caught up\",\"time\":\"2025-07-16T16:32:51+01:00\"}\n",
      "{\"build_git_commit\":\"7cebee0421\",\"build_go_version\":\"go1.24.5\",\"build_image_tag\":\"HEAD\",\"build_wv_version\":\"1.32.0\",\"error\":\"cannot find peer\",\"level\":\"error\",\"msg\":\"transferring leadership\",\"time\":\"2025-07-16T16:32:51+01:00\"}\n"
     ]
    }
   ],
   "source": [
    "client.close()"
   ]
  },
  {
   "cell_type": "code",
   "execution_count": null,
   "id": "5d67fd35",
   "metadata": {},
   "outputs": [],
   "source": []
  }
 ],
 "metadata": {
  "kernelspec": {
   "display_name": "workshop-pdf-rag",
   "language": "python",
   "name": "python3"
  },
  "language_info": {
   "codemirror_mode": {
    "name": "ipython",
    "version": 3
   },
   "file_extension": ".py",
   "mimetype": "text/x-python",
   "name": "python",
   "nbconvert_exporter": "python",
   "pygments_lexer": "ipython3",
   "version": "3.10.16"
  }
 },
 "nbformat": 4,
 "nbformat_minor": 5
}
